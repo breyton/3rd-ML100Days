{
 "cells": [
  {
   "cell_type": "markdown",
   "metadata": {},
   "source": [
    "## Work\n",
    "### 請結合前面的知識與程式碼，比較不同的 regularization 的組合對訓練的結果與影響：如 dropout, regularizers, batch-normalization 等"
   ]
  },
  {
   "cell_type": "code",
   "execution_count": 10,
   "metadata": {},
   "outputs": [],
   "source": [
    "import os\n",
    "import keras\n",
    "import itertools\n",
    "# Disable GPU\n",
    "os.environ[\"CUDA_VISIBLE_DEVICES\"] = \"\""
   ]
  },
  {
   "cell_type": "code",
   "execution_count": 11,
   "metadata": {},
   "outputs": [],
   "source": [
    "train, test = keras.datasets.cifar10.load_data()"
   ]
  },
  {
   "cell_type": "code",
   "execution_count": 12,
   "metadata": {},
   "outputs": [],
   "source": [
    "## 資料前處理\n",
    "def preproc_x(x, flatten=True):\n",
    "    x = x / 255.\n",
    "    if flatten:\n",
    "        x = x.reshape((len(x), -1))\n",
    "    return x\n",
    "\n",
    "def preproc_y(y, num_classes=10):\n",
    "    if y.shape[-1] == 1:\n",
    "        y = keras.utils.to_categorical(y, num_classes)\n",
    "    return y    "
   ]
  },
  {
   "cell_type": "code",
   "execution_count": 13,
   "metadata": {},
   "outputs": [],
   "source": [
    "x_train, y_train = train\n",
    "x_test, y_test = test\n",
    "\n",
    "# Preproc the inputs\n",
    "x_train = preproc_x(x_train)\n",
    "x_test = preproc_x(x_test)\n",
    "\n",
    "# Preprc the outputs\n",
    "y_train = preproc_y(y_train)\n",
    "y_test = preproc_y(y_test)"
   ]
  },
  {
   "cell_type": "code",
   "execution_count": 14,
   "metadata": {},
   "outputs": [],
   "source": [
    "from keras.layers import Dropout\n",
    "from keras.regularizers import l1, l2, l1_l2\n",
    "\n",
    "\"\"\"\n",
    "建立神經網路，並加入 dropout layer\n",
    "\"\"\"\n",
    "def build_mlp(input_shape, output_units=10, num_neurons=[512, 256, 128], l1_ratio=1e-4):\n",
    "    input_layer = keras.layers.Input(input_shape)\n",
    "    \n",
    "    for i, n_units in enumerate(num_neurons):\n",
    "        if i == 0:\n",
    "            x = keras.layers.Dense(units=n_units, \n",
    "                                   activation=\"relu\", \n",
    "                                   name=\"hidden_layer\"+str(i+1),\n",
    "                                   kernel_regularizer=l1(l1_ratio))(input_layer)\n",
    "            x = Dropout(0.1)(x)\n",
    "        else:\n",
    "            x = keras.layers.Dense(units=n_units, \n",
    "                                   activation=\"relu\", \n",
    "                                   name=\"hidden_layer\"+str(i+1),\n",
    "                                   kernel_regularizer=l1(l1_ratio))(x)\n",
    "            x = Dropout(0.1)(x)\n",
    "    \n",
    "    out = keras.layers.Dense(units=output_units, activation=\"softmax\", name=\"output\")(x)\n",
    "    \n",
    "    model = keras.models.Model(inputs=[input_layer], outputs=[out])\n",
    "    return model"
   ]
  },
  {
   "cell_type": "code",
   "execution_count": 15,
   "metadata": {},
   "outputs": [],
   "source": [
    "## 超參數設定\n",
    "LEARNING_RATE = 1e-3\n",
    "EPOCHS =50\n",
    "BATCH_SIZE = 256\n",
    "MOMENTUM = 0.95"
   ]
  },
  {
   "cell_type": "code",
   "execution_count": 16,
   "metadata": {
    "scrolled": true
   },
   "outputs": [
    {
     "name": "stdout",
     "output_type": "stream",
     "text": [
      "Model: \"model_3\"\n",
      "_________________________________________________________________\n",
      "Layer (type)                 Output Shape              Param #   \n",
      "=================================================================\n",
      "input_3 (InputLayer)         (None, 3072)              0         \n",
      "_________________________________________________________________\n",
      "hidden_layer1 (Dense)        (None, 512)               1573376   \n",
      "_________________________________________________________________\n",
      "dropout_7 (Dropout)          (None, 512)               0         \n",
      "_________________________________________________________________\n",
      "hidden_layer2 (Dense)        (None, 256)               131328    \n",
      "_________________________________________________________________\n",
      "dropout_8 (Dropout)          (None, 256)               0         \n",
      "_________________________________________________________________\n",
      "hidden_layer3 (Dense)        (None, 128)               32896     \n",
      "_________________________________________________________________\n",
      "dropout_9 (Dropout)          (None, 128)               0         \n",
      "_________________________________________________________________\n",
      "output (Dense)               (None, 10)                1290      \n",
      "=================================================================\n",
      "Total params: 1,738,890\n",
      "Trainable params: 1,738,890\n",
      "Non-trainable params: 0\n",
      "_________________________________________________________________\n",
      "Train on 50000 samples, validate on 10000 samples\n",
      "Epoch 1/50\n",
      "50000/50000 [==============================] - 12s 242us/step - loss: 6.0933 - accuracy: 0.2251 - val_loss: 5.8579 - val_accuracy: 0.3256\n",
      "Epoch 2/50\n",
      "50000/50000 [==============================] - 10s 208us/step - loss: 5.8134 - accuracy: 0.3142 - val_loss: 5.6771 - val_accuracy: 0.3672\n",
      "Epoch 3/50\n",
      "50000/50000 [==============================] - 11s 211us/step - loss: 5.6601 - accuracy: 0.3521 - val_loss: 5.5402 - val_accuracy: 0.3939\n",
      "Epoch 4/50\n",
      "50000/50000 [==============================] - 11s 212us/step - loss: 5.5334 - accuracy: 0.3751 - val_loss: 5.4205 - val_accuracy: 0.4076\n",
      "Epoch 5/50\n",
      "50000/50000 [==============================] - 10s 210us/step - loss: 5.4243 - accuracy: 0.3932 - val_loss: 5.3199 - val_accuracy: 0.4244\n",
      "Epoch 6/50\n",
      "50000/50000 [==============================] - 11s 212us/step - loss: 5.3252 - accuracy: 0.4055 - val_loss: 5.2271 - val_accuracy: 0.4286\n",
      "Epoch 7/50\n",
      "50000/50000 [==============================] - 11s 211us/step - loss: 5.2314 - accuracy: 0.4178 - val_loss: 5.1360 - val_accuracy: 0.4385\n",
      "Epoch 8/50\n",
      "50000/50000 [==============================] - 11s 210us/step - loss: 5.1420 - accuracy: 0.4277 - val_loss: 5.0502 - val_accuracy: 0.4514\n",
      "Epoch 9/50\n",
      "50000/50000 [==============================] - 11s 213us/step - loss: 5.0570 - accuracy: 0.4344 - val_loss: 4.9732 - val_accuracy: 0.4520\n",
      "Epoch 10/50\n",
      "50000/50000 [==============================] - 11s 211us/step - loss: 4.9723 - accuracy: 0.4449 - val_loss: 4.8961 - val_accuracy: 0.4596\n",
      "Epoch 11/50\n",
      "50000/50000 [==============================] - 11s 214us/step - loss: 4.8932 - accuracy: 0.4518 - val_loss: 4.8096 - val_accuracy: 0.4714\n",
      "Epoch 12/50\n",
      "50000/50000 [==============================] - 11s 217us/step - loss: 4.8144 - accuracy: 0.4588 - val_loss: 4.7400 - val_accuracy: 0.4735\n",
      "Epoch 13/50\n",
      "50000/50000 [==============================] - 11s 216us/step - loss: 4.7364 - accuracy: 0.4650 - val_loss: 4.6674 - val_accuracy: 0.4810\n",
      "Epoch 14/50\n",
      "50000/50000 [==============================] - 11s 216us/step - loss: 4.6614 - accuracy: 0.4702 - val_loss: 4.6012 - val_accuracy: 0.4850\n",
      "Epoch 15/50\n",
      "50000/50000 [==============================] - 11s 219us/step - loss: 4.5930 - accuracy: 0.4734 - val_loss: 4.5274 - val_accuracy: 0.4907\n",
      "Epoch 16/50\n",
      "50000/50000 [==============================] - 11s 219us/step - loss: 4.5194 - accuracy: 0.4832 - val_loss: 4.4678 - val_accuracy: 0.4882\n",
      "Epoch 17/50\n",
      "50000/50000 [==============================] - 11s 221us/step - loss: 4.4476 - accuracy: 0.4883 - val_loss: 4.4043 - val_accuracy: 0.4916\n",
      "Epoch 18/50\n",
      "50000/50000 [==============================] - 11s 220us/step - loss: 4.3817 - accuracy: 0.4890 - val_loss: 4.3378 - val_accuracy: 0.4942\n",
      "Epoch 19/50\n",
      "50000/50000 [==============================] - 11s 217us/step - loss: 4.3122 - accuracy: 0.4974 - val_loss: 4.2816 - val_accuracy: 0.4950\n",
      "Epoch 20/50\n",
      "50000/50000 [==============================] - 11s 221us/step - loss: 4.2467 - accuracy: 0.5000 - val_loss: 4.2190 - val_accuracy: 0.5000\n",
      "Epoch 21/50\n",
      "50000/50000 [==============================] - 11s 218us/step - loss: 4.1857 - accuracy: 0.5001 - val_loss: 4.1452 - val_accuracy: 0.5087\n",
      "Epoch 22/50\n",
      "50000/50000 [==============================] - 11s 218us/step - loss: 4.1156 - accuracy: 0.5091 - val_loss: 4.0857 - val_accuracy: 0.5084\n",
      "Epoch 23/50\n",
      "50000/50000 [==============================] - 11s 223us/step - loss: 4.0547 - accuracy: 0.5108 - val_loss: 4.0310 - val_accuracy: 0.5123\n",
      "Epoch 24/50\n",
      "50000/50000 [==============================] - 11s 220us/step - loss: 3.9948 - accuracy: 0.5151 - val_loss: 3.9760 - val_accuracy: 0.5107\n",
      "Epoch 25/50\n",
      "50000/50000 [==============================] - 11s 221us/step - loss: 3.9353 - accuracy: 0.5180 - val_loss: 3.9146 - val_accuracy: 0.5151\n",
      "Epoch 26/50\n",
      "50000/50000 [==============================] - 11s 221us/step - loss: 3.8735 - accuracy: 0.5235 - val_loss: 3.8634 - val_accuracy: 0.5185\n",
      "Epoch 27/50\n",
      "50000/50000 [==============================] - 11s 218us/step - loss: 3.8167 - accuracy: 0.5253 - val_loss: 3.8246 - val_accuracy: 0.5172\n",
      "Epoch 28/50\n",
      "50000/50000 [==============================] - 11s 223us/step - loss: 3.7578 - accuracy: 0.5282 - val_loss: 3.7711 - val_accuracy: 0.5148\n",
      "Epoch 29/50\n",
      "50000/50000 [==============================] - 11s 220us/step - loss: 3.7020 - accuracy: 0.5307 - val_loss: 3.7285 - val_accuracy: 0.5125\n",
      "Epoch 30/50\n",
      "50000/50000 [==============================] - 11s 218us/step - loss: 3.6486 - accuracy: 0.5325 - val_loss: 3.6631 - val_accuracy: 0.5183\n",
      "Epoch 31/50\n",
      "50000/50000 [==============================] - 11s 226us/step - loss: 3.5920 - accuracy: 0.5382 - val_loss: 3.6098 - val_accuracy: 0.5255\n",
      "Epoch 32/50\n",
      "50000/50000 [==============================] - 11s 229us/step - loss: 3.5384 - accuracy: 0.5390 - val_loss: 3.5750 - val_accuracy: 0.5159\n",
      "Epoch 33/50\n",
      "50000/50000 [==============================] - 12s 234us/step - loss: 3.4855 - accuracy: 0.5424 - val_loss: 3.5130 - val_accuracy: 0.5250\n",
      "Epoch 34/50\n",
      "50000/50000 [==============================] - 11s 229us/step - loss: 3.4362 - accuracy: 0.5415 - val_loss: 3.4683 - val_accuracy: 0.5234\n",
      "Epoch 35/50\n",
      "50000/50000 [==============================] - 11s 226us/step - loss: 3.3862 - accuracy: 0.5477 - val_loss: 3.4348 - val_accuracy: 0.5288\n",
      "Epoch 36/50\n",
      "50000/50000 [==============================] - 11s 229us/step - loss: 3.3332 - accuracy: 0.5498 - val_loss: 3.3679 - val_accuracy: 0.5309\n",
      "Epoch 37/50\n",
      "50000/50000 [==============================] - 11s 225us/step - loss: 3.2901 - accuracy: 0.5514 - val_loss: 3.3311 - val_accuracy: 0.5275\n",
      "Epoch 38/50\n",
      "50000/50000 [==============================] - 11s 225us/step - loss: 3.2402 - accuracy: 0.5545 - val_loss: 3.2715 - val_accuracy: 0.5383\n",
      "Epoch 39/50\n",
      "50000/50000 [==============================] - 11s 229us/step - loss: 3.1921 - accuracy: 0.5568 - val_loss: 3.2279 - val_accuracy: 0.5325\n",
      "Epoch 40/50\n",
      "50000/50000 [==============================] - 11s 222us/step - loss: 3.1455 - accuracy: 0.5607 - val_loss: 3.2181 - val_accuracy: 0.5256\n",
      "Epoch 41/50\n",
      "50000/50000 [==============================] - 11s 224us/step - loss: 3.1011 - accuracy: 0.5594 - val_loss: 3.1739 - val_accuracy: 0.5232\n",
      "Epoch 42/50\n",
      "50000/50000 [==============================] - 11s 226us/step - loss: 3.0586 - accuracy: 0.5612 - val_loss: 3.1555 - val_accuracy: 0.5265\n",
      "Epoch 43/50\n",
      "50000/50000 [==============================] - 11s 224us/step - loss: 3.0156 - accuracy: 0.5639 - val_loss: 3.0833 - val_accuracy: 0.5289\n",
      "Epoch 44/50\n",
      "50000/50000 [==============================] - 11s 227us/step - loss: 2.9751 - accuracy: 0.5625 - val_loss: 3.0438 - val_accuracy: 0.5298\n",
      "Epoch 45/50\n",
      "50000/50000 [==============================] - 11s 223us/step - loss: 2.9274 - accuracy: 0.5674 - val_loss: 3.0346 - val_accuracy: 0.5257\n"
     ]
    },
    {
     "name": "stdout",
     "output_type": "stream",
     "text": [
      "Epoch 46/50\n",
      "50000/50000 [==============================] - 11s 216us/step - loss: 2.8929 - accuracy: 0.5685 - val_loss: 3.0178 - val_accuracy: 0.5145\n",
      "Epoch 47/50\n",
      "50000/50000 [==============================] - 11s 222us/step - loss: 2.8505 - accuracy: 0.5701 - val_loss: 2.9483 - val_accuracy: 0.5332\n",
      "Epoch 48/50\n",
      "50000/50000 [==============================] - 11s 220us/step - loss: 2.8122 - accuracy: 0.5732 - val_loss: 2.8950 - val_accuracy: 0.5426\n",
      "Epoch 49/50\n",
      "50000/50000 [==============================] - 11s 218us/step - loss: 2.7789 - accuracy: 0.5713 - val_loss: 2.8852 - val_accuracy: 0.5304\n",
      "Epoch 50/50\n",
      "50000/50000 [==============================] - 11s 218us/step - loss: 2.7416 - accuracy: 0.5731 - val_loss: 2.8628 - val_accuracy: 0.5281\n"
     ]
    }
   ],
   "source": [
    "model = build_mlp(input_shape=x_train.shape[1:])\n",
    "model.summary()\n",
    "optimizer = keras.optimizers.SGD(lr=LEARNING_RATE, nesterov=True, momentum=MOMENTUM)\n",
    "model.compile(loss=\"categorical_crossentropy\", metrics=[\"accuracy\"], optimizer=optimizer)\n",
    "\n",
    "model.fit(x_train, y_train, \n",
    "          epochs=EPOCHS, \n",
    "          batch_size=BATCH_SIZE, \n",
    "          validation_data=(x_test, y_test), \n",
    "          shuffle=True)\n",
    "\n",
    "# Collect results\n",
    "train_loss = model.history.history[\"loss\"]\n",
    "valid_loss = model.history.history[\"val_loss\"]\n",
    "train_acc = model.history.history[\"accuracy\"]\n",
    "valid_acc = model.history.history[\"val_accuracy\"]"
   ]
  },
  {
   "cell_type": "code",
   "execution_count": 17,
   "metadata": {},
   "outputs": [
    {
     "data": {
      "image/png": "[encoded data removed]",
      "text/plain": [
       "<Figure size 432x288 with 1 Axes>"
      ]
     },
     "metadata": {
      "needs_background": "light"
     },
     "output_type": "display_data"
    },
    {
     "data": {
      "image/png": "[encoded data removed]",
      "text/plain": [
       "<Figure size 432x288 with 1 Axes>"
      ]
     },
     "metadata": {
      "needs_background": "light"
     },
     "output_type": "display_data"
    }
   ],
   "source": [
    "import matplotlib.pyplot as plt\n",
    "%matplotlib inline\n",
    "\n",
    "plt.plot(range(len(train_loss)), train_loss, label=\"train loss\")\n",
    "plt.plot(range(len(valid_loss)), valid_loss, label=\"valid loss\")\n",
    "plt.legend()\n",
    "plt.title(\"Loss\")\n",
    "plt.show()\n",
    "\n",
    "plt.plot(range(len(train_acc)), train_acc, label=\"train accuracy\")\n",
    "plt.plot(range(len(valid_acc)), valid_acc, label=\"valid accuracy\")\n",
    "plt.legend()\n",
    "plt.title(\"Accuracy\")\n",
    "plt.show()"
   ]
  }
 ],
 "metadata": {
  "kernelspec": {
   "display_name": "Python 3",
   "language": "python",
   "name": "python3"
  },
  "language_info": {
   "codemirror_mode": {
    "name": "ipython",
    "version": 3
   },
   "file_extension": ".py",
   "mimetype": "text/x-python",
   "name": "python",
   "nbconvert_exporter": "python",
   "pygments_lexer": "ipython3",
   "version": "3.7.4"
  }
 },
 "nbformat": 4,
 "nbformat_minor": 2
}
