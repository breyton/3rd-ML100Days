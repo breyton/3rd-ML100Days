{
 "cells": [
  {
   "cell_type": "markdown",
   "metadata": {},
   "source": [
    "## Work\n",
    "1. 請嘗試將 preproc_x 替換成以每筆資料的 min/max 進行標準化至 -1 ~ 1 間，再進行訓練\n",
    "2. 請嘗試將 mlp 疊更深 (e.g 5~10 層)，進行訓練後觀察 learning curve 的走勢\n",
    "3. (optional) 請改用 GPU 進行訓練 (如果你有 GPU 的話)，比較使用 CPU 與 GPU 的訓練速度"
   ]
  },
  {
   "cell_type": "code",
   "execution_count": null,
   "metadata": {},
   "outputs": [],
   "source": [
    "\n"
   ]
  },
  {
   "cell_type": "code",
   "execution_count": 5,
   "metadata": {},
   "outputs": [],
   "source": [
    "import os\n",
    "import keras\n",
    "\n",
    "# 請嘗試設定 GPU：os.environ\n"
   ]
  },
  {
   "cell_type": "code",
   "execution_count": 6,
   "metadata": {},
   "outputs": [],
   "source": [
    "train, test = keras.datasets.cifar10.load_data()"
   ]
  },
  {
   "cell_type": "code",
   "execution_count": 7,
   "metadata": {},
   "outputs": [],
   "source": [
    "# 本範例不需使用 GPU, 將 GPU 設定為 \"無\"\n",
    "os.environ[\"CUDA_VISIBLE_DEVICES\"] = \"1\""
   ]
  },
  {
   "cell_type": "code",
   "execution_count": 8,
   "metadata": {},
   "outputs": [],
   "source": [
    "## 資料前處理\n",
    "\"\"\"\n",
    "Your code here\n",
    "\"\"\"\n",
    "def preproc_x(x, flatten=True):\n",
    "    x=(x - x.min()) / (x.max() - x.min()) -0.5\n",
    "    if flatten:\n",
    "        x = x.reshape((len(x), -1))\n",
    "    return x\n",
    "\n",
    "def preproc_y(y, num_classes=10):\n",
    "    if y.shape[-1] == 1:\n",
    "        y = keras.utils.to_categorical(y, num_classes)\n",
    "    return y    "
   ]
  },
  {
   "cell_type": "code",
   "execution_count": 9,
   "metadata": {},
   "outputs": [],
   "source": [
    "x_train, y_train = train\n",
    "x_test, y_test = test\n",
    "\n",
    "# Preproc the inputs\n",
    "x_train = preproc_x(x_train)\n",
    "x_test = preproc_x(x_test)\n",
    "\n",
    "# Preprc the outputs\n",
    "y_train = preproc_y(y_train)\n",
    "y_test = preproc_y(y_test)"
   ]
  },
  {
   "cell_type": "code",
   "execution_count": 10,
   "metadata": {},
   "outputs": [
    {
     "data": {
      "text/plain": [
       "array([[ 0.11960784, -0.06078431, -0.30784314, ..., -0.41764706,\n",
       "        -0.2372549 , -0.06862745],\n",
       "       [ 0.42156863,  0.42156863,  0.42156863, ...,  0.22941176,\n",
       "         0.28431373,  0.28039216],\n",
       "       [ 0.11960784,  0.24509804,  0.37058824, ..., -0.47254902,\n",
       "        -0.46862745, -0.47254902],\n",
       "       ...,\n",
       "       [-0.42156863, -0.44117647, -0.45294118, ..., -0.40196078,\n",
       "        -0.42156863, -0.31568627],\n",
       "       [-0.40196078, -0.34313725, -0.45294118, ..., -0.13921569,\n",
       "        -0.02941176, -0.18627451],\n",
       "       [-0.21372549, -0.19411765, -0.20588235, ..., -0.39411765,\n",
       "        -0.39803922, -0.39803922]])"
      ]
     },
     "execution_count": 10,
     "metadata": {},
     "output_type": "execute_result"
    }
   ],
   "source": [
    "x_test"
   ]
  },
  {
   "cell_type": "code",
   "execution_count": 11,
   "metadata": {},
   "outputs": [
    {
     "name": "stdout",
     "output_type": "stream",
     "text": [
      "Model: \"model_1\"\n",
      "_________________________________________________________________\n",
      "Layer (type)                 Output Shape              Param #   \n",
      "=================================================================\n",
      "input_1 (InputLayer)         (None, 3072)              0         \n",
      "_________________________________________________________________\n",
      "hidden_layer1 (Dense)        (None, 512)               1573376   \n",
      "_________________________________________________________________\n",
      "hidden_layer2 (Dense)        (None, 256)               131328    \n",
      "_________________________________________________________________\n",
      "hidden_layer3 (Dense)        (None, 128)               32896     \n",
      "_________________________________________________________________\n",
      "hidden_layer4 (Dense)        (None, 128)               16512     \n",
      "_________________________________________________________________\n",
      "hidden_layer5 (Dense)        (None, 128)               16512     \n",
      "_________________________________________________________________\n",
      "hidden_layer6 (Dense)        (None, 128)               16512     \n",
      "_________________________________________________________________\n",
      "hidden_layer7 (Dense)        (None, 128)               16512     \n",
      "_________________________________________________________________\n",
      "hidden_layer8 (Dense)        (None, 128)               16512     \n",
      "_________________________________________________________________\n",
      "hidden_layer9 (Dense)        (None, 64)                8256      \n",
      "_________________________________________________________________\n",
      "output (Dense)               (None, 10)                650       \n",
      "=================================================================\n",
      "Total params: 1,829,066\n",
      "Trainable params: 1,829,066\n",
      "Non-trainable params: 0\n",
      "_________________________________________________________________\n"
     ]
    }
   ],
   "source": [
    "\"\"\"Code Here\n",
    "建立你的神經網路\n",
    "\"\"\"\n",
    "def build_mlp(input_shape, output_units=10, num_neurons=[512, 256, 128, 128,128,128,128,128, 64]):\n",
    "    input_layer = keras.layers.Input(input_shape)\n",
    "    \n",
    "    for i, n_units in enumerate(num_neurons):\n",
    "        if i == 0:\n",
    "            x = keras.layers.Dense(units=n_units, activation=\"relu\", name=\"hidden_layer\"+str(i+1))(input_layer)\n",
    "        else:\n",
    "            x = keras.layers.Dense(units=n_units, activation=\"relu\", name=\"hidden_layer\"+str(i+1))(x)\n",
    "    \n",
    "    out = keras.layers.Dense(units=output_units, activation=\"softmax\", name=\"output\")(x)\n",
    "    \n",
    "    model = keras.models.Model(inputs=[input_layer], outputs=[out])\n",
    "    return model\n",
    "\n",
    "model = build_mlp(input_shape=x_train.shape[1:])\n",
    "model.summary()"
   ]
  },
  {
   "cell_type": "code",
   "execution_count": 12,
   "metadata": {},
   "outputs": [],
   "source": [
    "## 超參數設定\n",
    "LEARNING_RATE = 0.001\n",
    "EPOCHS = 100\n",
    "BATCH_SIZE = 256"
   ]
  },
  {
   "cell_type": "code",
   "execution_count": 13,
   "metadata": {},
   "outputs": [],
   "source": [
    "optimizer = keras.optimizers.Adam(lr=LEARNING_RATE)\n",
    "model.compile(loss=\"categorical_crossentropy\", metrics=[\"accuracy\"], optimizer=optimizer)"
   ]
  },
  {
   "cell_type": "code",
   "execution_count": 14,
   "metadata": {},
   "outputs": [
    {
     "name": "stdout",
     "output_type": "stream",
     "text": [
      "WARNING:tensorflow:From C:\\ProgramData\\Anaconda3\\lib\\site-packages\\keras\\backend\\tensorflow_backend.py:422: The name tf.global_variables is deprecated. Please use tf.compat.v1.global_variables instead.\n",
      "\n",
      "Train on 50000 samples, validate on 10000 samples\n",
      "Epoch 1/100\n",
      "50000/50000 [==============================] - 21s 415us/step - loss: 1.7641 - accuracy: 0.3595 - val_loss: 1.6064 - val_accuracy: 0.4293\n",
      "Epoch 2/100\n",
      "50000/50000 [==============================] - 18s 363us/step - loss: 1.5113 - accuracy: 0.4630 - val_loss: 1.4589 - val_accuracy: 0.4772\n",
      "Epoch 3/100\n",
      "50000/50000 [==============================] - 23s 458us/step - loss: 1.3942 - accuracy: 0.5076 - val_loss: 1.4197 - val_accuracy: 0.5015\n",
      "Epoch 4/100\n",
      "50000/50000 [==============================] - 24s 479us/step - loss: 1.2987 - accuracy: 0.5378 - val_loss: 1.3729 - val_accuracy: 0.5148\n",
      "Epoch 5/100\n",
      "50000/50000 [==============================] - 24s 472us/step - loss: 1.2148 - accuracy: 0.5705 - val_loss: 1.3839 - val_accuracy: 0.5144\n",
      "Epoch 6/100\n",
      "50000/50000 [==============================] - 24s 475us/step - loss: 1.1357 - accuracy: 0.5985 - val_loss: 1.3568 - val_accuracy: 0.5340\n",
      "Epoch 7/100\n",
      "50000/50000 [==============================] - 24s 475us/step - loss: 1.0615 - accuracy: 0.6247 - val_loss: 1.3921 - val_accuracy: 0.5296\n",
      "Epoch 8/100\n",
      "50000/50000 [==============================] - 23s 454us/step - loss: 0.9932 - accuracy: 0.6493 - val_loss: 1.3821 - val_accuracy: 0.5336\n",
      "Epoch 9/100\n",
      "50000/50000 [==============================] - 20s 405us/step - loss: 0.9283 - accuracy: 0.6715 - val_loss: 1.3821 - val_accuracy: 0.5370\n",
      "Epoch 10/100\n",
      "50000/50000 [==============================] - 20s 399us/step - loss: 0.8700 - accuracy: 0.6926 - val_loss: 1.4111 - val_accuracy: 0.5392\n",
      "Epoch 11/100\n",
      "50000/50000 [==============================] - 20s 409us/step - loss: 0.8080 - accuracy: 0.7180 - val_loss: 1.4684 - val_accuracy: 0.5452\n",
      "Epoch 12/100\n",
      "50000/50000 [==============================] - 20s 404us/step - loss: 0.7509 - accuracy: 0.7375 - val_loss: 1.5512 - val_accuracy: 0.5376\n",
      "Epoch 13/100\n",
      "50000/50000 [==============================] - 24s 481us/step - loss: 0.6991 - accuracy: 0.7553 - val_loss: 1.5890 - val_accuracy: 0.5319\n",
      "Epoch 14/100\n",
      "50000/50000 [==============================] - 21s 412us/step - loss: 0.6496 - accuracy: 0.7729 - val_loss: 1.6260 - val_accuracy: 0.5369\n",
      "Epoch 15/100\n",
      "50000/50000 [==============================] - 19s 384us/step - loss: 0.6104 - accuracy: 0.7859 - val_loss: 1.6542 - val_accuracy: 0.5284\n",
      "Epoch 16/100\n",
      "50000/50000 [==============================] - 20s 404us/step - loss: 0.5563 - accuracy: 0.8058 - val_loss: 1.6965 - val_accuracy: 0.5367\n",
      "Epoch 17/100\n",
      "50000/50000 [==============================] - 20s 410us/step - loss: 0.5201 - accuracy: 0.8176 - val_loss: 1.8324 - val_accuracy: 0.5387\n",
      "Epoch 18/100\n",
      "50000/50000 [==============================] - 20s 409us/step - loss: 0.4877 - accuracy: 0.8291 - val_loss: 1.8434 - val_accuracy: 0.5401\n",
      "Epoch 19/100\n",
      "50000/50000 [==============================] - 20s 402us/step - loss: 0.4497 - accuracy: 0.8443 - val_loss: 1.8980 - val_accuracy: 0.5342\n",
      "Epoch 20/100\n",
      "50000/50000 [==============================] - 19s 382us/step - loss: 0.4167 - accuracy: 0.8575 - val_loss: 1.9591 - val_accuracy: 0.5342\n",
      "Epoch 21/100\n",
      "50000/50000 [==============================] - 23s 466us/step - loss: 0.3974 - accuracy: 0.8637 - val_loss: 1.9980 - val_accuracy: 0.5274\n",
      "Epoch 22/100\n",
      "50000/50000 [==============================] - 19s 390us/step - loss: 0.3737 - accuracy: 0.8709 - val_loss: 2.1404 - val_accuracy: 0.5407\n",
      "Epoch 23/100\n",
      "50000/50000 [==============================] - 19s 374us/step - loss: 0.3513 - accuracy: 0.8790 - val_loss: 2.2382 - val_accuracy: 0.5286\n",
      "Epoch 24/100\n",
      "50000/50000 [==============================] - 19s 388us/step - loss: 0.3352 - accuracy: 0.8839 - val_loss: 2.1227 - val_accuracy: 0.5265\n",
      "Epoch 25/100\n",
      "50000/50000 [==============================] - 20s 403us/step - loss: 0.3143 - accuracy: 0.8921 - val_loss: 2.1382 - val_accuracy: 0.5307\n",
      "Epoch 26/100\n",
      "50000/50000 [==============================] - 20s 401us/step - loss: 0.2949 - accuracy: 0.8987 - val_loss: 2.3772 - val_accuracy: 0.5338\n",
      "Epoch 27/100\n",
      "50000/50000 [==============================] - 20s 395us/step - loss: 0.2665 - accuracy: 0.9087 - val_loss: 2.4366 - val_accuracy: 0.5325\n",
      "Epoch 28/100\n",
      "50000/50000 [==============================] - 24s 470us/step - loss: 0.2730 - accuracy: 0.9068 - val_loss: 2.3358 - val_accuracy: 0.5301\n",
      "Epoch 29/100\n",
      "50000/50000 [==============================] - 23s 460us/step - loss: 0.2510 - accuracy: 0.9143 - val_loss: 2.3665 - val_accuracy: 0.5304\n",
      "Epoch 30/100\n",
      "50000/50000 [==============================] - 19s 384us/step - loss: 0.2340 - accuracy: 0.9210 - val_loss: 2.4569 - val_accuracy: 0.5246\n",
      "Epoch 31/100\n",
      "50000/50000 [==============================] - 23s 454us/step - loss: 0.2338 - accuracy: 0.9222 - val_loss: 2.6797 - val_accuracy: 0.5315\n",
      "Epoch 32/100\n",
      "50000/50000 [==============================] - 25s 503us/step - loss: 0.2209 - accuracy: 0.9247 - val_loss: 2.6054 - val_accuracy: 0.5203\n",
      "Epoch 33/100\n",
      "50000/50000 [==============================] - 21s 418us/step - loss: 0.2019 - accuracy: 0.9300 - val_loss: 2.7792 - val_accuracy: 0.5245\n",
      "Epoch 34/100\n",
      "50000/50000 [==============================] - 24s 475us/step - loss: 0.2068 - accuracy: 0.9300 - val_loss: 2.6616 - val_accuracy: 0.5306\n",
      "Epoch 35/100\n",
      "50000/50000 [==============================] - 21s 411us/step - loss: 0.1967 - accuracy: 0.9336 - val_loss: 2.7287 - val_accuracy: 0.5293\n",
      "Epoch 36/100\n",
      "50000/50000 [==============================] - 24s 470us/step - loss: 0.1865 - accuracy: 0.9368 - val_loss: 2.6661 - val_accuracy: 0.5331\n",
      "Epoch 37/100\n",
      "50000/50000 [==============================] - 19s 386us/step - loss: 0.1915 - accuracy: 0.9356 - val_loss: 2.7015 - val_accuracy: 0.5316\n",
      "Epoch 38/100\n",
      "50000/50000 [==============================] - 19s 372us/step - loss: 0.1790 - accuracy: 0.9400 - val_loss: 2.6551 - val_accuracy: 0.5267\n",
      "Epoch 39/100\n",
      "50000/50000 [==============================] - 19s 388us/step - loss: 0.1594 - accuracy: 0.9461 - val_loss: 2.9572 - val_accuracy: 0.5334\n",
      "Epoch 40/100\n",
      "50000/50000 [==============================] - 24s 481us/step - loss: 0.1561 - accuracy: 0.9481 - val_loss: 2.6677 - val_accuracy: 0.5361\n",
      "Epoch 41/100\n",
      "50000/50000 [==============================] - 21s 416us/step - loss: 0.1500 - accuracy: 0.9492 - val_loss: 2.9774 - val_accuracy: 0.5395\n",
      "Epoch 42/100\n",
      "50000/50000 [==============================] - 21s 418us/step - loss: 0.1499 - accuracy: 0.9499 - val_loss: 2.9636 - val_accuracy: 0.5297\n",
      "Epoch 43/100\n",
      "50000/50000 [==============================] - 26s 520us/step - loss: 0.1546 - accuracy: 0.9489 - val_loss: 3.0287 - val_accuracy: 0.5256\n",
      "Epoch 44/100\n",
      "50000/50000 [==============================] - 20s 392us/step - loss: 0.1526 - accuracy: 0.9490 - val_loss: 2.9204 - val_accuracy: 0.5264\n",
      "Epoch 45/100\n",
      "50000/50000 [==============================] - 20s 399us/step - loss: 0.1447 - accuracy: 0.9514 - val_loss: 3.0945 - val_accuracy: 0.5340\n",
      "Epoch 46/100\n",
      "50000/50000 [==============================] - 21s 418us/step - loss: 0.1426 - accuracy: 0.9529 - val_loss: 2.9189 - val_accuracy: 0.5331\n",
      "Epoch 47/100\n",
      "50000/50000 [==============================] - 20s 392us/step - loss: 0.1298 - accuracy: 0.9560 - val_loss: 2.8873 - val_accuracy: 0.5313\n",
      "Epoch 48/100\n",
      "50000/50000 [==============================] - 21s 419us/step - loss: 0.1282 - accuracy: 0.9570 - val_loss: 2.9055 - val_accuracy: 0.5325\n",
      "Epoch 49/100\n",
      "50000/50000 [==============================] - 23s 451us/step - loss: 0.1355 - accuracy: 0.9539 - val_loss: 3.0881 - val_accuracy: 0.5315\n",
      "Epoch 50/100\n",
      "50000/50000 [==============================] - 22s 443us/step - loss: 0.1257 - accuracy: 0.9577 - val_loss: 3.1033 - val_accuracy: 0.5364\n",
      "Epoch 51/100\n",
      "50000/50000 [==============================] - 19s 386us/step - loss: 0.1256 - accuracy: 0.9578 - val_loss: 3.0824 - val_accuracy: 0.5292\n",
      "Epoch 52/100\n",
      "50000/50000 [==============================] - 19s 388us/step - loss: 0.1300 - accuracy: 0.9568 - val_loss: 3.0481 - val_accuracy: 0.5364\n",
      "Epoch 53/100\n"
     ]
    },
    {
     "name": "stdout",
     "output_type": "stream",
     "text": [
      "50000/50000 [==============================] - 20s 398us/step - loss: 0.1137 - accuracy: 0.9620 - val_loss: 3.0265 - val_accuracy: 0.5295\n",
      "Epoch 54/100\n",
      "50000/50000 [==============================] - 20s 404us/step - loss: 0.1125 - accuracy: 0.9632 - val_loss: 2.9514 - val_accuracy: 0.5292\n",
      "Epoch 55/100\n",
      "50000/50000 [==============================] - 22s 444us/step - loss: 0.1098 - accuracy: 0.9634 - val_loss: 3.1521 - val_accuracy: 0.5327\n",
      "Epoch 56/100\n",
      "50000/50000 [==============================] - 21s 428us/step - loss: 0.1236 - accuracy: 0.9595 - val_loss: 2.9406 - val_accuracy: 0.5336\n",
      "Epoch 57/100\n",
      "50000/50000 [==============================] - 21s 414us/step - loss: 0.1067 - accuracy: 0.9652 - val_loss: 3.2096 - val_accuracy: 0.5222\n",
      "Epoch 58/100\n",
      "50000/50000 [==============================] - 24s 473us/step - loss: 0.1157 - accuracy: 0.9620 - val_loss: 3.0150 - val_accuracy: 0.5304\n",
      "Epoch 59/100\n",
      "50000/50000 [==============================] - 22s 435us/step - loss: 0.1037 - accuracy: 0.9652 - val_loss: 3.3533 - val_accuracy: 0.5413\n",
      "Epoch 60/100\n",
      "50000/50000 [==============================] - 19s 384us/step - loss: 0.1087 - accuracy: 0.9635 - val_loss: 3.0506 - val_accuracy: 0.5282\n",
      "Epoch 61/100\n",
      "50000/50000 [==============================] - 20s 403us/step - loss: 0.1012 - accuracy: 0.9672 - val_loss: 3.1294 - val_accuracy: 0.5270\n",
      "Epoch 62/100\n",
      "50000/50000 [==============================] - 20s 398us/step - loss: 0.1008 - accuracy: 0.9670 - val_loss: 3.3424 - val_accuracy: 0.5362\n",
      "Epoch 63/100\n",
      "50000/50000 [==============================] - 19s 387us/step - loss: 0.0978 - accuracy: 0.9683 - val_loss: 3.3041 - val_accuracy: 0.5328\n",
      "Epoch 64/100\n",
      "50000/50000 [==============================] - 20s 400us/step - loss: 0.1021 - accuracy: 0.9663 - val_loss: 3.2768 - val_accuracy: 0.5280\n",
      "Epoch 65/100\n",
      "50000/50000 [==============================] - 20s 393us/step - loss: 0.0939 - accuracy: 0.9680 - val_loss: 3.2889 - val_accuracy: 0.5263\n",
      "Epoch 66/100\n",
      "50000/50000 [==============================] - 19s 389us/step - loss: 0.0983 - accuracy: 0.9682 - val_loss: 3.1840 - val_accuracy: 0.5389\n",
      "Epoch 67/100\n",
      "50000/50000 [==============================] - 22s 437us/step - loss: 0.0976 - accuracy: 0.9683 - val_loss: 3.1264 - val_accuracy: 0.5320\n",
      "Epoch 68/100\n",
      "50000/50000 [==============================] - 20s 400us/step - loss: 0.1000 - accuracy: 0.9693 - val_loss: 3.1881 - val_accuracy: 0.5322\n",
      "Epoch 69/100\n",
      "50000/50000 [==============================] - 20s 394us/step - loss: 0.0909 - accuracy: 0.9699 - val_loss: 3.2485 - val_accuracy: 0.5253\n",
      "Epoch 70/100\n",
      "50000/50000 [==============================] - 20s 391us/step - loss: 0.0839 - accuracy: 0.9725 - val_loss: 3.4509 - val_accuracy: 0.5327\n",
      "Epoch 71/100\n",
      "50000/50000 [==============================] - 20s 403us/step - loss: 0.0873 - accuracy: 0.9713 - val_loss: 3.0820 - val_accuracy: 0.5315\n",
      "Epoch 72/100\n",
      "50000/50000 [==============================] - 20s 391us/step - loss: 0.0902 - accuracy: 0.9705 - val_loss: 3.1250 - val_accuracy: 0.5239\n",
      "Epoch 73/100\n",
      "50000/50000 [==============================] - 25s 497us/step - loss: 0.0836 - accuracy: 0.9727 - val_loss: 3.2968 - val_accuracy: 0.5290\n",
      "Epoch 74/100\n",
      "50000/50000 [==============================] - 24s 484us/step - loss: 0.0845 - accuracy: 0.9723 - val_loss: 3.6201 - val_accuracy: 0.5306\n",
      "Epoch 75/100\n",
      "50000/50000 [==============================] - 24s 476us/step - loss: 0.0953 - accuracy: 0.9696 - val_loss: 3.4487 - val_accuracy: 0.5363\n",
      "Epoch 76/100\n",
      "50000/50000 [==============================] - 24s 477us/step - loss: 0.0846 - accuracy: 0.9727 - val_loss: 3.0923 - val_accuracy: 0.5354\n",
      "Epoch 77/100\n",
      "50000/50000 [==============================] - 23s 463us/step - loss: 0.0873 - accuracy: 0.9715 - val_loss: 3.4163 - val_accuracy: 0.5289\n",
      "Epoch 78/100\n",
      "50000/50000 [==============================] - 24s 477us/step - loss: 0.0710 - accuracy: 0.9770 - val_loss: 3.4127 - val_accuracy: 0.5274\n",
      "Epoch 79/100\n",
      "50000/50000 [==============================] - 24s 477us/step - loss: 0.0887 - accuracy: 0.9713 - val_loss: 3.4157 - val_accuracy: 0.5298\n",
      "Epoch 80/100\n",
      "50000/50000 [==============================] - 25s 505us/step - loss: 0.0821 - accuracy: 0.9730 - val_loss: 3.2861 - val_accuracy: 0.5328\n",
      "Epoch 81/100\n",
      "50000/50000 [==============================] - 25s 491us/step - loss: 0.0768 - accuracy: 0.9749 - val_loss: 3.6054 - val_accuracy: 0.5307\n",
      "Epoch 82/100\n",
      "50000/50000 [==============================] - 25s 495us/step - loss: 0.0777 - accuracy: 0.9740 - val_loss: 3.8206 - val_accuracy: 0.5321\n",
      "Epoch 83/100\n",
      "50000/50000 [==============================] - 25s 499us/step - loss: 0.0834 - accuracy: 0.9734 - val_loss: 3.0859 - val_accuracy: 0.5286\n",
      "Epoch 84/100\n",
      "50000/50000 [==============================] - 24s 489us/step - loss: 0.0757 - accuracy: 0.9752 - val_loss: 3.6257 - val_accuracy: 0.5369\n",
      "Epoch 85/100\n",
      "50000/50000 [==============================] - 28s 570us/step - loss: 0.0750 - accuracy: 0.9762 - val_loss: 3.4458 - val_accuracy: 0.5381\n",
      "Epoch 86/100\n",
      "50000/50000 [==============================] - 25s 502us/step - loss: 0.0723 - accuracy: 0.9768 - val_loss: 3.4604 - val_accuracy: 0.5373\n",
      "Epoch 87/100\n",
      "50000/50000 [==============================] - 26s 516us/step - loss: 0.0721 - accuracy: 0.9770 - val_loss: 3.2453 - val_accuracy: 0.5330\n",
      "Epoch 88/100\n",
      "50000/50000 [==============================] - 26s 520us/step - loss: 0.0735 - accuracy: 0.9764 - val_loss: 3.5852 - val_accuracy: 0.5323\n",
      "Epoch 89/100\n",
      "50000/50000 [==============================] - 25s 509us/step - loss: 0.0721 - accuracy: 0.9774 - val_loss: 3.5927 - val_accuracy: 0.5395\n",
      "Epoch 90/100\n",
      "50000/50000 [==============================] - 24s 478us/step - loss: 0.0776 - accuracy: 0.9749 - val_loss: 3.2030 - val_accuracy: 0.5347\n",
      "Epoch 91/100\n",
      "50000/50000 [==============================] - 24s 473us/step - loss: 0.0820 - accuracy: 0.9737 - val_loss: 3.4848 - val_accuracy: 0.5358\n",
      "Epoch 92/100\n",
      "50000/50000 [==============================] - 24s 471us/step - loss: 0.0754 - accuracy: 0.9764 - val_loss: 3.3517 - val_accuracy: 0.5349\n",
      "Epoch 93/100\n",
      "50000/50000 [==============================] - 24s 478us/step - loss: 0.0727 - accuracy: 0.9762 - val_loss: 3.3676 - val_accuracy: 0.5342\n",
      "Epoch 94/100\n",
      "50000/50000 [==============================] - 24s 483us/step - loss: 0.0693 - accuracy: 0.9776 - val_loss: 3.4980 - val_accuracy: 0.5266\n",
      "Epoch 95/100\n",
      "50000/50000 [==============================] - 25s 494us/step - loss: 0.0669 - accuracy: 0.9780 - val_loss: 3.4202 - val_accuracy: 0.5298\n",
      "Epoch 96/100\n",
      "50000/50000 [==============================] - 23s 462us/step - loss: 0.0716 - accuracy: 0.9766 - val_loss: 3.3853 - val_accuracy: 0.5285\n",
      "Epoch 97/100\n",
      "50000/50000 [==============================] - 24s 487us/step - loss: 0.0728 - accuracy: 0.9766 - val_loss: 3.3524 - val_accuracy: 0.5348\n",
      "Epoch 98/100\n",
      "50000/50000 [==============================] - 28s 559us/step - loss: 0.0696 - accuracy: 0.9784 - val_loss: 3.2843 - val_accuracy: 0.5283\n",
      "Epoch 99/100\n",
      "50000/50000 [==============================] - 23s 465us/step - loss: 0.0728 - accuracy: 0.9770 - val_loss: 3.3995 - val_accuracy: 0.5344\n",
      "Epoch 100/100\n",
      "50000/50000 [==============================] - 23s 468us/step - loss: 0.0623 - accuracy: 0.9804 - val_loss: 3.5621 - val_accuracy: 0.5351\n"
     ]
    },
    {
     "data": {
      "text/plain": [
       "<keras.callbacks.callbacks.History at 0x1d2ef1c0a90>"
      ]
     },
     "execution_count": 14,
     "metadata": {},
     "output_type": "execute_result"
    }
   ],
   "source": [
    "model.fit(x_train, y_train, \n",
    "          epochs=EPOCHS, \n",
    "          batch_size=BATCH_SIZE, \n",
    "          validation_data=(x_test, y_test), \n",
    "          shuffle=True)"
   ]
  },
  {
   "cell_type": "code",
   "execution_count": 16,
   "metadata": {},
   "outputs": [
    {
     "data": {
      "image/png": "[encoded data removed]",
      "text/plain": [
       "<Figure size 432x288 with 1 Axes>"
      ]
     },
     "metadata": {
      "needs_background": "light"
     },
     "output_type": "display_data"
    },
    {
     "data": {
      "image/png": "[encoded data removed]",
      "text/plain": [
       "<Figure size 432x288 with 1 Axes>"
      ]
     },
     "metadata": {
      "needs_background": "light"
     },
     "output_type": "display_data"
    }
   ],
   "source": [
    "import matplotlib.pyplot as plt\n",
    "\n",
    "\n",
    "train_loss = model.history.history[\"loss\"]\n",
    "valid_loss = model.history.history[\"val_loss\"]\n",
    "\n",
    "train_acc = model.history.history[\"accuracy\"]\n",
    "valid_acc = model.history.history[\"val_accuracy\"]\n",
    "\n",
    "plt.plot(range(len(train_loss)), train_loss, label=\"train loss\")\n",
    "plt.plot(range(len(valid_loss)), valid_loss, label=\"valid loss\")\n",
    "plt.legend()\n",
    "plt.title(\"Loss\")\n",
    "plt.show()\n",
    "\n",
    "plt.plot(range(len(train_acc)), train_acc, label=\"train accuracy\")\n",
    "plt.plot(range(len(valid_acc)), valid_acc, label=\"valid accuracy\")\n",
    "plt.legend()\n",
    "plt.title(\"Accuracy\")\n",
    "plt.show()"
   ]
  }
 ],
 "metadata": {
  "kernelspec": {
   "display_name": "Python 3",
   "language": "python",
   "name": "python3"
  },
  "language_info": {
   "codemirror_mode": {
    "name": "ipython",
    "version": 3
   },
   "file_extension": ".py",
   "mimetype": "text/x-python",
   "name": "python",
   "nbconvert_exporter": "python",
   "pygments_lexer": "ipython3",
   "version": "3.7.3"
  }
 },
 "nbformat": 4,
 "nbformat_minor": 2
}
