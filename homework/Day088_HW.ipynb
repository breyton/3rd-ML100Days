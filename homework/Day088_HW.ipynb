{
 "cells": [
  {
   "cell_type": "markdown",
   "metadata": {},
   "source": [
    "## Work\n",
    "1. 請嘗試寫一個 callback 用來記錄各類別在訓練過程中，對驗證集的 True Positive 與 True Negative"
   ]
  },
  {
   "cell_type": "code",
   "execution_count": 1,
   "metadata": {},
   "outputs": [
    {
     "name": "stderr",
     "output_type": "stream",
     "text": [
      "Using TensorFlow backend.\n"
     ]
    }
   ],
   "source": [
    "import os\n",
    "import keras\n",
    "\n",
    "# Disable GPU\n",
    "os.environ[\"CUDA_VISIBLE_DEVICES\"] = \"\""
   ]
  },
  {
   "cell_type": "code",
   "execution_count": 3,
   "metadata": {},
   "outputs": [],
   "source": [
    "train, test = keras.datasets.cifar10.load_data()"
   ]
  },
  {
   "cell_type": "code",
   "execution_count": 4,
   "metadata": {},
   "outputs": [],
   "source": [
    "## 資料前處理\n",
    "def preproc_x(x, flatten=True):\n",
    "    x = x / 255.\n",
    "    if flatten:\n",
    "        x = x.reshape((len(x), -1))\n",
    "    return x\n",
    "\n",
    "def preproc_y(y, num_classes=10):\n",
    "    if y.shape[-1] == 1:\n",
    "        y = keras.utils.to_categorical(y, num_classes)\n",
    "    return y    "
   ]
  },
  {
   "cell_type": "code",
   "execution_count": 5,
   "metadata": {},
   "outputs": [],
   "source": [
    "x_train, y_train = train\n",
    "x_test, y_test = test\n",
    "\n",
    "# Preproc the inputs\n",
    "x_train = preproc_x(x_train)\n",
    "x_test = preproc_x(x_test)\n",
    "\n",
    "# Preprc the outputs\n",
    "y_train = preproc_y(y_train)\n",
    "y_test = preproc_y(y_test)"
   ]
  },
  {
   "cell_type": "code",
   "execution_count": 6,
   "metadata": {},
   "outputs": [],
   "source": [
    "from keras.layers import BatchNormalization\n",
    "def build_mlp(input_shape, output_units=10, num_neurons=[256, 256, 256]):\n",
    "    input_layer = keras.layers.Input(input_shape)\n",
    "    \n",
    "    for i, n_units in enumerate(num_neurons):\n",
    "        if i == 0:\n",
    "            x = keras.layers.Dense(units=n_units, \n",
    "                                   activation=\"relu\", \n",
    "                                   name=\"hidden_layer\"+str(i+1))(input_layer)\n",
    "            x = BatchNormalization()(x)\n",
    "        else:\n",
    "            x = keras.layers.Dense(units=n_units, \n",
    "                                   activation=\"relu\", \n",
    "                                   name=\"hidden_layer\"+str(i+1))(x)\n",
    "            x = BatchNormalization()(x)\n",
    "    \n",
    "    out = keras.layers.Dense(units=output_units, activation=\"softmax\", name=\"output\")(x)\n",
    "    \n",
    "    model = keras.models.Model(inputs=[input_layer], outputs=[out])\n",
    "    return model"
   ]
  },
  {
   "cell_type": "code",
   "execution_count": 39,
   "metadata": {},
   "outputs": [],
   "source": [
    "## 超參數設定\n",
    "LEARNING_RATE = 1e-3\n",
    "EPOCHS = 25\n",
    "BATCH_SIZE = 1024\n",
    "MOMENTUM = 0.95"
   ]
  },
  {
   "cell_type": "code",
   "execution_count": 34,
   "metadata": {},
   "outputs": [],
   "source": [
    "# 載入 Callbacks\n",
    "from keras.callbacks import Callback\n",
    "from sklearn.metrics import confusion_matrix\n",
    "from statistics import mean \n",
    "import numpy as np\n",
    "\n",
    "# Record_fp_tp\n",
    "class Record_tp_tn(Callback):\n",
    "    \"\"\"Code Here\n",
    "    撰寫一個紀錄 ture positive 與 true negative 數量的 callbacks    \n",
    "    \"\"\"\n",
    "    def on_train_begin(self, epoch, logs = {}):\n",
    "        logs = logs or {}\n",
    "        record_items = [\"val_auc\", \"val_f1sc\", \"val_fp\", \"val_fn\", \"val_tp\", \"val_tn\"]\n",
    "        for i in record_items:\n",
    "            if i not in self.params['metrics']:\n",
    "                self.params['metrics'].append(i)\n",
    "    \n",
    "    def on_epoch_end(self, epoch, logs = {}, thres=0.5):\n",
    "        logs = logs or {}\n",
    "        y_true = self.validation_data[1].argmax(axis = 1)\n",
    "        y_pred = self.model.predict(self.validation_data[0])\n",
    "        y_pred = (y_pred[:, 1] >= thres) * 1\n",
    "        #print('y_true:', y_true)\n",
    "        #print('y_pred:', y_pred)\n",
    "        cnf_matrix =confusion_matrix(y_true, y_pred)\n",
    "        FP = cnf_matrix.sum(axis=0) - np.diag(cnf_matrix)  \n",
    "        FN = cnf_matrix.sum(axis=1) - np.diag(cnf_matrix)\n",
    "        TP = np.diag(cnf_matrix)\n",
    "        TN = cnf_matrix.sum() - (FP + FN + TP)\n",
    "\n",
    "        FP = FP.astype(float)\n",
    "        FN = FN.astype(float)\n",
    "        TP = TP.astype(float)\n",
    "        TN = TN.astype(float)\n",
    "        print('TN, FP, FN, TP:', TN, FP, FN, TP)\n",
    "        logs[\"val_tn\"], logs[\"val_fp\"], logs[\"val_fn\"], logs[\"val_tp\"] = mean(TN), mean(FP), mean(FN), mean(TP)\n",
    "        \n",
    "rec_tptn = Record_tp_tn()"
   ]
  },
  {
   "cell_type": "code",
   "execution_count": 36,
   "metadata": {},
   "outputs": [
    {
     "data": {
      "text/plain": [
       "[100.0]"
      ]
     },
     "execution_count": 36,
     "metadata": {},
     "output_type": "execute_result"
    }
   ],
   "source": [
    "model.history.history['val_tp']"
   ]
  },
  {
   "cell_type": "code",
   "execution_count": 40,
   "metadata": {
    "scrolled": true
   },
   "outputs": [
    {
     "name": "stdout",
     "output_type": "stream",
     "text": [
      "Model: \"model_12\"\n",
      "_________________________________________________________________\n",
      "Layer (type)                 Output Shape              Param #   \n",
      "=================================================================\n",
      "input_12 (InputLayer)        (None, 3072)              0         \n",
      "_________________________________________________________________\n",
      "hidden_layer1 (Dense)        (None, 256)               786688    \n",
      "_________________________________________________________________\n",
      "batch_normalization_34 (Batc (None, 256)               1024      \n",
      "_________________________________________________________________\n",
      "hidden_layer2 (Dense)        (None, 256)               65792     \n",
      "_________________________________________________________________\n",
      "batch_normalization_35 (Batc (None, 256)               1024      \n",
      "_________________________________________________________________\n",
      "hidden_layer3 (Dense)        (None, 256)               65792     \n",
      "_________________________________________________________________\n",
      "batch_normalization_36 (Batc (None, 256)               1024      \n",
      "_________________________________________________________________\n",
      "output (Dense)               (None, 10)                2570      \n",
      "=================================================================\n",
      "Total params: 923,914\n",
      "Trainable params: 922,378\n",
      "Non-trainable params: 1,536\n",
      "_________________________________________________________________\n",
      "Train on 50000 samples, validate on 10000 samples\n",
      "Epoch 1/25\n",
      "50000/50000 [==============================] - 12s 243us/step - loss: 2.2356 - accuracy: 0.2656 - val_loss: 2.1384 - val_accuracy: 0.2044\n",
      "TN, FP, FN, TP: [   0. 9000. 9000. 9000. 9000. 9000. 9000. 9000. 9000. 9000.] [9000.    0.    0.    0.    0.    0.    0.    0.    0.    0.] [   0. 1000. 1000. 1000. 1000. 1000. 1000. 1000. 1000. 1000.] [1000.    0.    0.    0.    0.    0.    0.    0.    0.    0.]\n",
      "Epoch 2/25\n",
      "50000/50000 [==============================] - 9s 180us/step - loss: 1.7661 - accuracy: 0.3867 - val_loss: 1.9938 - val_accuracy: 0.2851\n",
      "TN, FP, FN, TP: [8.000e+00 8.999e+03 9.000e+03 9.000e+03 9.000e+03 9.000e+03 9.000e+03\n",
      " 9.000e+03 9.000e+03 9.000e+03] [8.992e+03 1.000e+00 0.000e+00 0.000e+00 0.000e+00 0.000e+00 0.000e+00\n",
      " 0.000e+00 0.000e+00 0.000e+00] [   0.  993. 1000. 1000. 1000. 1000. 1000. 1000. 1000. 1000.] [1000.    7.    0.    0.    0.    0.    0.    0.    0.    0.]\n",
      "Epoch 3/25\n",
      "50000/50000 [==============================] - 9s 189us/step - loss: 1.6416 - accuracy: 0.4255 - val_loss: 1.8481 - val_accuracy: 0.3574\n",
      "TN, FP, FN, TP: [  22. 8995. 9000. 9000. 9000. 9000. 9000. 9000. 9000. 9000.] [8.978e+03 5.000e+00 0.000e+00 0.000e+00 0.000e+00 0.000e+00 0.000e+00\n",
      " 0.000e+00 0.000e+00 0.000e+00] [   0.  983. 1000. 1000. 1000. 1000. 1000. 1000. 1000. 1000.] [1000.   17.    0.    0.    0.    0.    0.    0.    0.    0.]\n",
      "Epoch 4/25\n",
      "50000/50000 [==============================] - 9s 176us/step - loss: 1.5701 - accuracy: 0.4517 - val_loss: 1.7448 - val_accuracy: 0.4005\n",
      "TN, FP, FN, TP: [  45. 8994. 9000. 9000. 9000. 9000. 9000. 9000. 9000. 9000.] [8.955e+03 6.000e+00 0.000e+00 0.000e+00 0.000e+00 0.000e+00 0.000e+00\n",
      " 0.000e+00 0.000e+00 0.000e+00] [   0.  961. 1000. 1000. 1000. 1000. 1000. 1000. 1000. 1000.] [1000.   39.    0.    0.    0.    0.    0.    0.    0.    0.]\n",
      "Epoch 5/25\n",
      "50000/50000 [==============================] - 10s 198us/step - loss: 1.5159 - accuracy: 0.4723 - val_loss: 1.6472 - val_accuracy: 0.4326\n",
      "TN, FP, FN, TP: [ 150. 8958. 9000. 9000. 9000. 9000. 9000. 9000. 9000. 9000.] [8850.   42.    0.    0.    0.    0.    0.    0.    0.    0.] [   0.  892. 1000. 1000. 1000. 1000. 1000. 1000. 1000. 1000.] [1000.  108.    0.    0.    0.    0.    0.    0.    0.    0.]\n",
      "Epoch 6/25\n",
      "50000/50000 [==============================] - 9s 170us/step - loss: 1.4710 - accuracy: 0.4865 - val_loss: 1.5953 - val_accuracy: 0.4420\n",
      "TN, FP, FN, TP: [ 304. 8920. 9000. 9000. 9000. 9000. 9000. 9000. 9000. 9000.] [8696.   80.    0.    0.    0.    0.    0.    0.    0.    0.] [   3.  773. 1000. 1000. 1000. 1000. 1000. 1000. 1000. 1000.] [997. 227.   0.   0.   0.   0.   0.   0.   0.   0.]\n",
      "Epoch 7/25\n",
      "50000/50000 [==============================] - 9s 175us/step - loss: 1.4333 - accuracy: 0.5008 - val_loss: 1.5765 - val_accuracy: 0.4502\n",
      "TN, FP, FN, TP: [ 287. 8932. 9000. 9000. 9000. 9000. 9000. 9000. 9000. 9000.] [8713.   68.    0.    0.    0.    0.    0.    0.    0.    0.] [   4.  777. 1000. 1000. 1000. 1000. 1000. 1000. 1000. 1000.] [996. 223.   0.   0.   0.   0.   0.   0.   0.   0.]\n",
      "Epoch 8/25\n",
      "50000/50000 [==============================] - 8s 166us/step - loss: 1.4011 - accuracy: 0.5133 - val_loss: 1.5626 - val_accuracy: 0.4472\n",
      "TN, FP, FN, TP: [ 405. 8885. 9000. 9000. 9000. 9000. 9000. 9000. 9000. 9000.] [8595.  115.    0.    0.    0.    0.    0.    0.    0.    0.] [   6.  704. 1000. 1000. 1000. 1000. 1000. 1000. 1000. 1000.] [994. 296.   0.   0.   0.   0.   0.   0.   0.   0.]\n",
      "Epoch 9/25\n",
      "50000/50000 [==============================] - 8s 162us/step - loss: 1.3726 - accuracy: 0.5230 - val_loss: 1.5371 - val_accuracy: 0.4557\n",
      "TN, FP, FN, TP: [ 451. 8870. 9000. 9000. 9000. 9000. 9000. 9000. 9000. 9000.] [8549.  130.    0.    0.    0.    0.    0.    0.    0.    0.] [   8.  671. 1000. 1000. 1000. 1000. 1000. 1000. 1000. 1000.] [992. 329.   0.   0.   0.   0.   0.   0.   0.   0.]\n",
      "Epoch 10/25\n",
      "50000/50000 [==============================] - 10s 208us/step - loss: 1.3440 - accuracy: 0.5342 - val_loss: 1.5085 - val_accuracy: 0.4683\n",
      "TN, FP, FN, TP: [ 577. 8829. 9000. 9000. 9000. 9000. 9000. 9000. 9000. 9000.] [8423.  171.    0.    0.    0.    0.    0.    0.    0.    0.] [  10.  584. 1000. 1000. 1000. 1000. 1000. 1000. 1000. 1000.] [990. 416.   0.   0.   0.   0.   0.   0.   0.   0.]\n",
      "Epoch 11/25\n",
      "50000/50000 [==============================] - 9s 173us/step - loss: 1.3182 - accuracy: 0.5432 - val_loss: 1.5043 - val_accuracy: 0.4706\n",
      "TN, FP, FN, TP: [ 579. 8814. 9000. 9000. 9000. 9000. 9000. 9000. 9000. 9000.] [8421.  186.    0.    0.    0.    0.    0.    0.    0.    0.] [  14.  593. 1000. 1000. 1000. 1000. 1000. 1000. 1000. 1000.] [986. 407.   0.   0.   0.   0.   0.   0.   0.   0.]\n",
      "Epoch 12/25\n",
      "50000/50000 [==============================] - 8s 158us/step - loss: 1.2932 - accuracy: 0.5533 - val_loss: 1.5018 - val_accuracy: 0.4707\n",
      "TN, FP, FN, TP: [ 564. 8832. 9000. 9000. 9000. 9000. 9000. 9000. 9000. 9000.] [8436.  168.    0.    0.    0.    0.    0.    0.    0.    0.] [  10.  594. 1000. 1000. 1000. 1000. 1000. 1000. 1000. 1000.] [990. 406.   0.   0.   0.   0.   0.   0.   0.   0.]\n",
      "Epoch 13/25\n",
      "50000/50000 [==============================] - 8s 168us/step - loss: 1.2703 - accuracy: 0.5616 - val_loss: 1.4905 - val_accuracy: 0.4748\n",
      "TN, FP, FN, TP: [ 589. 8821. 9000. 9000. 9000. 9000. 9000. 9000. 9000. 9000.] [8411.  179.    0.    0.    0.    0.    0.    0.    0.    0.] [   9.  581. 1000. 1000. 1000. 1000. 1000. 1000. 1000. 1000.] [991. 419.   0.   0.   0.   0.   0.   0.   0.   0.]\n",
      "Epoch 14/25\n",
      "50000/50000 [==============================] - 9s 187us/step - loss: 1.2497 - accuracy: 0.5697 - val_loss: 1.4827 - val_accuracy: 0.4837\n",
      "TN, FP, FN, TP: [ 633. 8800. 9000. 9000. 9000. 9000. 9000. 9000. 9000. 9000.] [8367.  200.    0.    0.    0.    0.    0.    0.    0.    0.] [  14.  553. 1000. 1000. 1000. 1000. 1000. 1000. 1000. 1000.] [986. 447.   0.   0.   0.   0.   0.   0.   0.   0.]\n",
      "Epoch 15/25\n",
      "50000/50000 [==============================] - 8s 169us/step - loss: 1.2279 - accuracy: 0.5774 - val_loss: 1.5113 - val_accuracy: 0.4764\n",
      "TN, FP, FN, TP: [ 844. 8673. 9000. 9000. 9000. 9000. 9000. 9000. 9000. 9000.] [8156.  327.    0.    0.    0.    0.    0.    0.    0.    0.] [  32.  451. 1000. 1000. 1000. 1000. 1000. 1000. 1000. 1000.] [968. 549.   0.   0.   0.   0.   0.   0.   0.   0.]\n",
      "Epoch 16/25\n",
      "50000/50000 [==============================] - 9s 180us/step - loss: 1.2077 - accuracy: 0.5822 - val_loss: 1.4868 - val_accuracy: 0.4812\n",
      "TN, FP, FN, TP: [ 585. 8822. 9000. 9000. 9000. 9000. 9000. 9000. 9000. 9000.] [8415.  178.    0.    0.    0.    0.    0.    0.    0.    0.] [  14.  579. 1000. 1000. 1000. 1000. 1000. 1000. 1000. 1000.] [986. 421.   0.   0.   0.   0.   0.   0.   0.   0.]\n",
      "Epoch 17/25\n"
     ]
    },
    {
     "name": "stdout",
     "output_type": "stream",
     "text": [
      "50000/50000 [==============================] - 8s 164us/step - loss: 1.1893 - accuracy: 0.5907 - val_loss: 1.4710 - val_accuracy: 0.4850\n",
      "TN, FP, FN, TP: [ 653. 8796. 9000. 9000. 9000. 9000. 9000. 9000. 9000. 9000.] [8347.  204.    0.    0.    0.    0.    0.    0.    0.    0.] [  16.  535. 1000. 1000. 1000. 1000. 1000. 1000. 1000. 1000.] [984. 465.   0.   0.   0.   0.   0.   0.   0.   0.]\n",
      "Epoch 18/25\n",
      "50000/50000 [==============================] - 8s 162us/step - loss: 1.1688 - accuracy: 0.5989 - val_loss: 1.4720 - val_accuracy: 0.4872\n",
      "TN, FP, FN, TP: [ 680. 8789. 9000. 9000. 9000. 9000. 9000. 9000. 9000. 9000.] [8320.  211.    0.    0.    0.    0.    0.    0.    0.    0.] [  14.  517. 1000. 1000. 1000. 1000. 1000. 1000. 1000. 1000.] [986. 483.   0.   0.   0.   0.   0.   0.   0.   0.]\n",
      "Epoch 19/25\n",
      "50000/50000 [==============================] - 8s 160us/step - loss: 1.1506 - accuracy: 0.6046 - val_loss: 1.4711 - val_accuracy: 0.4814\n",
      "TN, FP, FN, TP: [ 617. 8813. 9000. 9000. 9000. 9000. 9000. 9000. 9000. 9000.] [8383.  187.    0.    0.    0.    0.    0.    0.    0.    0.] [  15.  555. 1000. 1000. 1000. 1000. 1000. 1000. 1000. 1000.] [985. 445.   0.   0.   0.   0.   0.   0.   0.   0.]\n",
      "Epoch 20/25\n",
      "50000/50000 [==============================] - 8s 165us/step - loss: 1.1320 - accuracy: 0.6114 - val_loss: 1.4601 - val_accuracy: 0.4910\n",
      "TN, FP, FN, TP: [ 687. 8783. 9000. 9000. 9000. 9000. 9000. 9000. 9000. 9000.] [8313.  217.    0.    0.    0.    0.    0.    0.    0.    0.] [  14.  516. 1000. 1000. 1000. 1000. 1000. 1000. 1000. 1000.] [986. 484.   0.   0.   0.   0.   0.   0.   0.   0.]\n",
      "Epoch 21/25\n",
      "50000/50000 [==============================] - 8s 166us/step - loss: 1.1150 - accuracy: 0.6157 - val_loss: 1.4620 - val_accuracy: 0.4899\n",
      "TN, FP, FN, TP: [ 574. 8836. 9000. 9000. 9000. 9000. 9000. 9000. 9000. 9000.] [8426.  164.    0.    0.    0.    0.    0.    0.    0.    0.] [  12.  578. 1000. 1000. 1000. 1000. 1000. 1000. 1000. 1000.] [988. 422.   0.   0.   0.   0.   0.   0.   0.   0.]\n",
      "Epoch 22/25\n",
      "50000/50000 [==============================] - 9s 171us/step - loss: 1.0968 - accuracy: 0.6252 - val_loss: 1.4630 - val_accuracy: 0.4864\n",
      "TN, FP, FN, TP: [ 654. 8798. 9000. 9000. 9000. 9000. 9000. 9000. 9000. 9000.] [8346.  202.    0.    0.    0.    0.    0.    0.    0.    0.] [  20.  528. 1000. 1000. 1000. 1000. 1000. 1000. 1000. 1000.] [980. 472.   0.   0.   0.   0.   0.   0.   0.   0.]\n",
      "Epoch 23/25\n",
      "50000/50000 [==============================] - 8s 155us/step - loss: 1.0795 - accuracy: 0.6315 - val_loss: 1.4667 - val_accuracy: 0.4902\n",
      "TN, FP, FN, TP: [ 644. 8822. 9000. 9000. 9000. 9000. 9000. 9000. 9000. 9000.] [8356.  178.    0.    0.    0.    0.    0.    0.    0.    0.] [   9.  525. 1000. 1000. 1000. 1000. 1000. 1000. 1000. 1000.] [991. 475.   0.   0.   0.   0.   0.   0.   0.   0.]\n",
      "Epoch 24/25\n",
      "50000/50000 [==============================] - 8s 161us/step - loss: 1.0636 - accuracy: 0.6358 - val_loss: 1.4703 - val_accuracy: 0.4891\n",
      "TN, FP, FN, TP: [ 538. 8858. 9000. 9000. 9000. 9000. 9000. 9000. 9000. 9000.] [8462.  142.    0.    0.    0.    0.    0.    0.    0.    0.] [  10.  594. 1000. 1000. 1000. 1000. 1000. 1000. 1000. 1000.] [990. 406.   0.   0.   0.   0.   0.   0.   0.   0.]\n",
      "Epoch 25/25\n",
      "50000/50000 [==============================] - 9s 170us/step - loss: 1.0470 - accuracy: 0.6434 - val_loss: 1.4585 - val_accuracy: 0.4939\n",
      "TN, FP, FN, TP: [ 689. 8786. 9000. 9000. 9000. 9000. 9000. 9000. 9000. 9000.] [8311.  214.    0.    0.    0.    0.    0.    0.    0.    0.] [  13.  512. 1000. 1000. 1000. 1000. 1000. 1000. 1000. 1000.] [987. 488.   0.   0.   0.   0.   0.   0.   0.   0.]\n"
     ]
    }
   ],
   "source": [
    "model = build_mlp(input_shape=x_train.shape[1:])\n",
    "model.summary()\n",
    "optimizer = keras.optimizers.SGD(lr=LEARNING_RATE, nesterov=True, momentum=MOMENTUM)\n",
    "model.compile(loss=\"categorical_crossentropy\", metrics=[\"accuracy\"], optimizer=optimizer)\n",
    "\n",
    "\"\"\"Code Here\n",
    "將 callbacks 放入模型訓練流程中\n",
    "\"\"\"\n",
    "model.fit(x_train, y_train, \n",
    "          epochs=EPOCHS, \n",
    "          batch_size=BATCH_SIZE, \n",
    "          validation_data=(x_test, y_test), \n",
    "          shuffle=True,\n",
    "          callbacks=[rec_tptn]\n",
    "         )\n",
    "\n",
    "# Collect results\n",
    "train_loss = model.history.history[\"loss\"]\n",
    "valid_loss = model.history.history[\"val_loss\"]\n",
    "train_acc = model.history.history[\"accuracy\"]\n",
    "valid_acc = model.history.history[\"val_accuracy\"]\n",
    "\n",
    "\"\"\"Code Here\n",
    "將 tp/tn 從訓練完的模型中取出\n",
    "\"\"\"\n",
    "valid_tp = model.history.history['val_tp']\n",
    "valid_tn = model.history.history['val_tn']"
   ]
  },
  {
   "cell_type": "code",
   "execution_count": 41,
   "metadata": {},
   "outputs": [
    {
     "data": {
      "image/png": "[encoded data removed]",
      "text/plain": [
       "<Figure size 432x288 with 1 Axes>"
      ]
     },
     "metadata": {
      "needs_background": "light"
     },
     "output_type": "display_data"
    },
    {
     "data": {
      "image/png": "[encoded data removed]",
      "text/plain": [
       "<Figure size 432x288 with 1 Axes>"
      ]
     },
     "metadata": {
      "needs_background": "light"
     },
     "output_type": "display_data"
    },
    {
     "data": {
      "image/png": "[encoded data removed]",
      "text/plain": [
       "<Figure size 432x288 with 1 Axes>"
      ]
     },
     "metadata": {
      "needs_background": "light"
     },
     "output_type": "display_data"
    }
   ],
   "source": [
    "import matplotlib.pyplot as plt\n",
    "%matplotlib inline\n",
    "\n",
    "plt.plot(range(len(train_loss)), train_loss, label=\"train loss\")\n",
    "plt.plot(range(len(valid_loss)), valid_loss, label=\"valid loss\")\n",
    "plt.legend()\n",
    "plt.title(\"Loss\")\n",
    "plt.show()\n",
    "\n",
    "plt.plot(range(len(train_acc)), train_acc, label=\"train accuracy\")\n",
    "plt.plot(range(len(valid_acc)), valid_acc, label=\"valid accuracy\")\n",
    "plt.legend()\n",
    "plt.title(\"Accuracy\")\n",
    "plt.show()\n",
    "\n",
    "plt.plot(range(len(valid_tp)), valid_tp, label=\"valid tp\", color=\"navy\")\n",
    "plt.plot(range(len(valid_tn)), valid_tn, label=\"valid tn\", color=\"red\")\n",
    "plt.legend()\n",
    "plt.title(\"True positives and True Negatives\")\n",
    "plt.show()\n"
   ]
  }
 ],
 "metadata": {
  "kernelspec": {
   "display_name": "Python 3",
   "language": "python",
   "name": "python3"
  },
  "language_info": {
   "codemirror_mode": {
    "name": "ipython",
    "version": 3
   },
   "file_extension": ".py",
   "mimetype": "text/x-python",
   "name": "python",
   "nbconvert_exporter": "python",
   "pygments_lexer": "ipython3",
   "version": "3.7.3"
  }
 },
 "nbformat": 4,
 "nbformat_minor": 2
}
