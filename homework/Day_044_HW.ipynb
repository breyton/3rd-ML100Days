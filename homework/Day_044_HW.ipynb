{
 "cells": [
  {
   "cell_type": "markdown",
   "metadata": {},
   "source": [
    "## [作業重點]\n",
    "確保你了解隨機森林模型中每個超參數的意義，並觀察調整超參數對結果的影響"
   ]
  },
  {
   "cell_type": "markdown",
   "metadata": {},
   "source": [
    "## 作業\n",
    "\n",
    "1. 試著調整 RandomForestClassifier(...) 中的參數，並觀察是否會改變結果？\n",
    "2. 改用其他資料集 (boston, wine)，並與回歸模型與決策樹的結果進行比較"
   ]
  },
  {
   "cell_type": "markdown",
   "metadata": {},
   "source": [
    "## [範例重點]\n",
    "了解隨機森林的建模方法及其中超參數的意義"
   ]
  },
  {
   "cell_type": "code",
   "execution_count": 89,
   "metadata": {},
   "outputs": [],
   "source": [
    "from sklearn import datasets, metrics\n",
    "from sklearn.ensemble import RandomForestClassifier, RandomForestRegressor\n",
    "from sklearn.model_selection import train_test_split"
   ]
  },
  {
   "cell_type": "code",
   "execution_count": 90,
   "metadata": {},
   "outputs": [],
   "source": [
    "# 讀取鳶尾花資料集\n",
    "iris = datasets.load_iris()\n",
    "\n",
    "# 切分訓練集/測試集\n",
    "x_train, x_test, y_train, y_test = train_test_split(iris.data, iris.target, test_size=0.25, random_state=4)\n",
    "\n",
    "# 建立模型 (使用 20 顆樹，每棵樹的最大深度為 4)\n",
    "clf = RandomForestClassifier(n_estimators=20, max_depth=4)\n",
    "\n",
    "# 訓練模型\n",
    "clf.fit(x_train, y_train)\n",
    "\n",
    "# 預測測試集\n",
    "y_pred = clf.predict(x_test)"
   ]
  },
  {
   "cell_type": "code",
   "execution_count": 91,
   "metadata": {},
   "outputs": [
    {
     "name": "stdout",
     "output_type": "stream",
     "text": [
      "Accuracy:  0.9736842105263158\n"
     ]
    }
   ],
   "source": [
    "acc = metrics.accuracy_score(y_test, y_pred)\n",
    "print(\"Accuracy: \", acc)"
   ]
  },
  {
   "cell_type": "code",
   "execution_count": 92,
   "metadata": {},
   "outputs": [
    {
     "name": "stdout",
     "output_type": "stream",
     "text": [
      "['sepal length (cm)', 'sepal width (cm)', 'petal length (cm)', 'petal width (cm)']\n"
     ]
    }
   ],
   "source": [
    "print(iris.feature_names)"
   ]
  },
  {
   "cell_type": "code",
   "execution_count": 93,
   "metadata": {},
   "outputs": [
    {
     "name": "stdout",
     "output_type": "stream",
     "text": [
      "Feature importance:  [0.05529677 0.01044282 0.42229995 0.51196047]\n"
     ]
    }
   ],
   "source": [
    "print(\"Feature importance: \", clf.feature_importances_)"
   ]
  },
  {
   "cell_type": "markdown",
   "metadata": {},
   "source": [
    "## 作業\n",
    "\n",
    "1. 試著調整 RandomForestClassifier(...) 中的參數，並觀察是否會改變結果？\n"
   ]
  },
  {
   "cell_type": "code",
   "execution_count": 94,
   "metadata": {},
   "outputs": [
    {
     "data": {
      "text/plain": [
       "150"
      ]
     },
     "execution_count": 94,
     "metadata": {},
     "output_type": "execute_result"
    }
   ],
   "source": [
    "len(iris.data)"
   ]
  },
  {
   "cell_type": "code",
   "execution_count": 95,
   "metadata": {},
   "outputs": [
    {
     "name": "stdout",
     "output_type": "stream",
     "text": [
      "Accuracy:  0.9736842105263158\n",
      "['sepal length (cm)', 'sepal width (cm)', 'petal length (cm)', 'petal width (cm)']\n",
      "Feature importance:  [0.07169294 0.03230382 0.56534999 0.33065325]\n"
     ]
    }
   ],
   "source": [
    "# 建立模型 (使用 20 顆樹，每棵樹的最大深度為 8)\n",
    "clf = RandomForestClassifier(n_estimators=20, max_depth=8         )\n",
    "\n",
    "# 訓練模型\n",
    "clf.fit(x_train, y_train)\n",
    "\n",
    "# 預測測試集\n",
    "y_pred = clf.predict(x_test)\n",
    "\n",
    "acc = metrics.accuracy_score(y_test, y_pred)\n",
    "print(\"Accuracy: \", acc)\n",
    "print(iris.feature_names)\n",
    "print(\"Feature importance: \", clf.feature_importances_)"
   ]
  },
  {
   "cell_type": "code",
   "execution_count": 96,
   "metadata": {},
   "outputs": [
    {
     "name": "stdout",
     "output_type": "stream",
     "text": [
      "Accuracy:  0.9210526315789473\n",
      "['sepal length (cm)', 'sepal width (cm)', 'petal length (cm)', 'petal width (cm)']\n",
      "Feature importance:  [0.03345782 0.01337471 0.30746556 0.6457019 ]\n"
     ]
    }
   ],
   "source": [
    "# 建立模型 (使用 4 顆樹，每棵樹的最大深度為 4)\n",
    "clf = RandomForestClassifier(n_estimators=4, max_depth=4\n",
    "                            )\n",
    "\n",
    "# 訓練模型\n",
    "clf.fit(x_train, y_train)\n",
    "\n",
    "# 預測測試集\n",
    "y_pred = clf.predict(x_test)\n",
    "\n",
    "acc = metrics.accuracy_score(y_test, y_pred)\n",
    "print(\"Accuracy: \", acc)\n",
    "print(iris.feature_names)\n",
    "print(\"Feature importance: \", clf.feature_importances_)"
   ]
  },
  {
   "cell_type": "markdown",
   "metadata": {},
   "source": [
    "## 作業\n",
    "\n",
    "2. 改用其他資料集 (boston, wine)，並與回歸模型與決策樹的結果進行比較"
   ]
  },
  {
   "cell_type": "code",
   "execution_count": 97,
   "metadata": {},
   "outputs": [
    {
     "name": "stdout",
     "output_type": "stream",
     "text": [
      "Acuuracy:  0.8003174851119776\n",
      "['CRIM' 'ZN' 'INDUS' 'CHAS' 'NOX' 'RM' 'AGE' 'DIS' 'RAD' 'TAX' 'PTRATIO'\n",
      " 'B' 'LSTAT']\n",
      "Feature importance:  [0.03280306 0.00194934 0.00644689 0.00075042 0.01432481 0.56022563\n",
      " 0.01468361 0.07441753 0.00381747 0.01563621 0.01919045 0.01189529\n",
      " 0.24385929]\n"
     ]
    }
   ],
   "source": [
    "import numpy as np\n",
    "import matplotlib.pyplot as plt\n",
    "from sklearn import datasets, linear_model, metrics\n",
    "from sklearn.model_selection import train_test_split\n",
    "from sklearn.metrics import mean_squared_error, r2_score\n",
    "\n",
    "# 如果是分類問題，請使用 DecisionTreeClassifier，若為回歸問題，請使用 DecisionTreeRegressor\n",
    "from sklearn.tree import DecisionTreeClassifier, DecisionTreeRegressor\n",
    "from sklearn.model_selection import train_test_split\n",
    "\n",
    "# 讀取boston資料集\n",
    "boston = datasets.load_boston()\n",
    "\n",
    "# 切分訓練集/測試集\n",
    "x_train, x_test, y_train, y_test = train_test_split(boston.data, boston.target, test_size=0.2, random_state=4)\n",
    "\n",
    "# 建立一個線性回歸模型\n",
    "regr = RandomForestRegressor(n_estimators =10)\n",
    "\n",
    "# 將訓練資料丟進去模型訓練\n",
    "regr.fit(x_train, y_train)\n",
    "\n",
    "# 將測試資料丟進模型得到預測結果\n",
    "y_pred = regr.predict(x_test)\n",
    "\n",
    "acc = regr.score(x_test, y_test)\n",
    "print(\"Acuuracy: \", acc)\n",
    "print(boston.feature_names)\n",
    "print(\"Feature importance: \", regr.feature_importances_)"
   ]
  },
  {
   "cell_type": "code",
   "execution_count": 98,
   "metadata": {},
   "outputs": [
    {
     "name": "stdout",
     "output_type": "stream",
     "text": [
      "Acuuracy:  0.8161119887969147\n",
      "['CRIM' 'ZN' 'INDUS' 'CHAS' 'NOX' 'RM' 'AGE' 'DIS' 'RAD' 'TAX' 'PTRATIO'\n",
      " 'B' 'LSTAT']\n",
      "Feature importance:  [0.04600233 0.0007189  0.00680067 0.00143453 0.01874793 0.52080295\n",
      " 0.01233488 0.06033481 0.00416339 0.01689269 0.01763441 0.01002573\n",
      " 0.28410679]\n"
     ]
    }
   ],
   "source": [
    "# 建立一個線性回歸模型\n",
    "regr2 = RandomForestRegressor(n_estimators = 100)\n",
    "\n",
    "# 將訓練資料丟進去模型訓練\n",
    "regr2.fit(x_train, y_train)\n",
    "\n",
    "# 將測試資料丟進模型得到預測結果\n",
    "y_pred = regr2.predict(x_test)\n",
    "\n",
    "acc = regr2.score(x_test, y_test)\n",
    "print(\"Acuuracy: \", acc)\n",
    "print(boston.feature_names)\n",
    "print(\"Feature importance: \", regr2.feature_importances_)"
   ]
  },
  {
   "cell_type": "code",
   "execution_count": 99,
   "metadata": {},
   "outputs": [
    {
     "name": "stdout",
     "output_type": "stream",
     "text": [
      "Depth 1  TrainScore:  0.5531335811476247  TstScore:  0.5087850997275429\n",
      "Depth 2  TrainScore:  0.7602160783994808  TstScore:  0.6657961011396113\n",
      "Depth 3  TrainScore:  0.8704892754460855  TstScore:  0.7279498498576218\n",
      "Depth 4  TrainScore:  0.9153472207127106  TstScore:  0.7686004522130124\n",
      "Depth 5  TrainScore:  0.9380812844479004  TstScore:  0.7970800576129624\n",
      "Depth 6  TrainScore:  0.9550304527908171  TstScore:  0.8083625174761357\n",
      "Depth 7  TrainScore:  0.9620256592170846  TstScore:  0.8051251581156462\n",
      "Depth 8  TrainScore:  0.9668535220753075  TstScore:  0.811419358946259\n",
      "Depth 9  TrainScore:  0.9735232711224562  TstScore:  0.8140891038831115\n",
      "Depth 10  TrainScore:  0.9746924344621233  TstScore:  0.808310696148413\n",
      "Depth 11  TrainScore:  0.9775464995295237  TstScore:  0.8243482162203468\n",
      "Depth 12  TrainScore:  0.9806929956397723  TstScore:  0.825260117211749\n",
      "Depth 13  TrainScore:  0.9782932618999872  TstScore:  0.8107276680029363\n",
      "Depth 14  TrainScore:  0.9785452665668094  TstScore:  0.8212772245554865\n",
      "Depth 15  TrainScore:  0.9820667124805862  TstScore:  0.820930924074761\n",
      "Depth 16  TrainScore:  0.9780029488261619  TstScore:  0.8294441636945731\n",
      "Depth 17  TrainScore:  0.9794319871932432  TstScore:  0.822537725537026\n",
      "Depth 18  TrainScore:  0.9806951012133867  TstScore:  0.8202810691786119\n",
      "Depth 19  TrainScore:  0.978893429676787  TstScore:  0.8114999506863184\n"
     ]
    },
    {
     "data": {
      "image/png": "[encoded data removed]",
      "text/plain": [
       "<Figure size 432x288 with 1 Axes>"
      ]
     },
     "metadata": {
      "needs_background": "light"
     },
     "output_type": "display_data"
    }
   ],
   "source": [
    "def test_RandomForestRegressor_depth(*data,maxdepth):\n",
    "    X_train,X_test,y_train,y_test=data\n",
    "    depths=np.arange(1,maxdepth)\n",
    "    training_scores=[]\n",
    "    testing_scores=[]\n",
    "    for depth in depths:\n",
    "        regr = RandomForestRegressor(n_estimators = 100, max_depth=depth)\n",
    "        regr.fit(X_train, y_train)\n",
    "        print(\"Depth\", depth, \" TrainScore: \", regr.score(X_train,y_train), \" TstScore: \", regr.score(X_test,y_test))\n",
    "        training_scores.append(regr.score(X_train,y_train))\n",
    "        testing_scores.append(regr.score(X_test,y_test))\n",
    " \n",
    "    ## 绘图\n",
    "    fig=plt.figure()\n",
    "    ax=fig.add_subplot(1,1,1)\n",
    "    ax.plot(depths,training_scores,label=\"traing score\")\n",
    "    ax.plot(depths,testing_scores,label=\"testing score\")\n",
    "    ax.set_xlabel(\"maxdepth\")\n",
    "    ax.set_ylabel(\"score\")\n",
    "    ax.set_title(\"RandomForestRegressor\")\n",
    "    ax.legend(framealpha=0.5)\n",
    "    plt.show()\n",
    " \n",
    "test_RandomForestRegressor_depth(x_train,x_test,y_train,y_test,maxdepth=20)"
   ]
  },
  {
   "cell_type": "code",
   "execution_count": 100,
   "metadata": {},
   "outputs": [
    {
     "name": "stdout",
     "output_type": "stream",
     "text": [
      "MaxFeatures 0.01  TrainScore:  0.9361494327919997  TstScore:  0.7298280405146715\n",
      "MaxFeatures 0.030204081632653063  TrainScore:  0.9467801353932929  TstScore:  0.8081199020561186\n",
      "MaxFeatures 0.05040816326530612  TrainScore:  0.9468454827487446  TstScore:  0.8314297815465173\n",
      "MaxFeatures 0.07061224489795918  TrainScore:  0.9398488911219215  TstScore:  0.7618442608091993\n",
      "MaxFeatures 0.09081632653061224  TrainScore:  0.9373784437547152  TstScore:  0.7514682714913833\n",
      "MaxFeatures 0.11102040816326529  TrainScore:  0.941258739246804  TstScore:  0.7786441439221434\n",
      "MaxFeatures 0.13122448979591836  TrainScore:  0.9401496527074888  TstScore:  0.7731336125305248\n",
      "MaxFeatures 0.15142857142857144  TrainScore:  0.943279090509866  TstScore:  0.7978986858684911\n",
      "MaxFeatures 0.1716326530612245  TrainScore:  0.9609326933250504  TstScore:  0.8295305082926459\n",
      "MaxFeatures 0.19183673469387755  TrainScore:  0.9645913650731195  TstScore:  0.828847291556591\n",
      "MaxFeatures 0.2120408163265306  TrainScore:  0.9659717170709612  TstScore:  0.8388869600705327\n",
      "MaxFeatures 0.23224489795918368  TrainScore:  0.969083671761789  TstScore:  0.8035825684471631\n",
      "MaxFeatures 0.2524489795918367  TrainScore:  0.9687345909051412  TstScore:  0.8711082205726235\n",
      "MaxFeatures 0.2726530612244898  TrainScore:  0.9701477224205265  TstScore:  0.8240859358888225\n",
      "MaxFeatures 0.29285714285714287  TrainScore:  0.9658811231038565  TstScore:  0.8908164315395422\n",
      "MaxFeatures 0.3130612244897959  TrainScore:  0.9709053372927517  TstScore:  0.8786677899648005\n",
      "MaxFeatures 0.333265306122449  TrainScore:  0.9696143958495808  TstScore:  0.8671873900355451\n",
      "MaxFeatures 0.35346938775510206  TrainScore:  0.9680198481631365  TstScore:  0.8373776805476963\n",
      "MaxFeatures 0.3736734693877551  TrainScore:  0.9684975866665907  TstScore:  0.8488639614799713\n",
      "MaxFeatures 0.39387755102040817  TrainScore:  0.9771761455379049  TstScore:  0.850307032181313\n",
      "MaxFeatures 0.4140816326530612  TrainScore:  0.974875180103262  TstScore:  0.8458781351746336\n",
      "MaxFeatures 0.4342857142857143  TrainScore:  0.9669102808718528  TstScore:  0.8130583417470574\n",
      "MaxFeatures 0.45448979591836736  TrainScore:  0.9750056450110309  TstScore:  0.8689857633203382\n",
      "MaxFeatures 0.4746938775510204  TrainScore:  0.9714105193560145  TstScore:  0.8606658921611191\n",
      "MaxFeatures 0.49489795918367346  TrainScore:  0.9716951466172384  TstScore:  0.842390457180034\n",
      "MaxFeatures 0.5151020408163265  TrainScore:  0.9736611265489405  TstScore:  0.8759529152153801\n",
      "MaxFeatures 0.5353061224489796  TrainScore:  0.9752350287510673  TstScore:  0.869433105516918\n",
      "MaxFeatures 0.5555102040816327  TrainScore:  0.9733807700534441  TstScore:  0.7963270928270862\n",
      "MaxFeatures 0.5757142857142857  TrainScore:  0.9680732944573338  TstScore:  0.8354549552673268\n",
      "MaxFeatures 0.5959183673469388  TrainScore:  0.9697398100554878  TstScore:  0.8432142841289307\n",
      "MaxFeatures 0.6161224489795918  TrainScore:  0.9703696859957757  TstScore:  0.8185687957549063\n",
      "MaxFeatures 0.6363265306122449  TrainScore:  0.9710342708697761  TstScore:  0.845024305857707\n",
      "MaxFeatures 0.656530612244898  TrainScore:  0.9722592411664808  TstScore:  0.8373219472643001\n",
      "MaxFeatures 0.676734693877551  TrainScore:  0.9704236730800774  TstScore:  0.8071866137556458\n",
      "MaxFeatures 0.6969387755102041  TrainScore:  0.9715291126895161  TstScore:  0.8531647679136516\n",
      "MaxFeatures 0.7171428571428571  TrainScore:  0.9715426506294516  TstScore:  0.8505600951937505\n",
      "MaxFeatures 0.7373469387755102  TrainScore:  0.9743410433222823  TstScore:  0.8553947744644584\n",
      "MaxFeatures 0.7575510204081632  TrainScore:  0.9727299316962159  TstScore:  0.8064437189772619\n",
      "MaxFeatures 0.7777551020408163  TrainScore:  0.9703248423842024  TstScore:  0.8127065340420364\n",
      "MaxFeatures 0.7979591836734694  TrainScore:  0.9720461651738826  TstScore:  0.8363490259904274\n",
      "MaxFeatures 0.8181632653061224  TrainScore:  0.973840346914723  TstScore:  0.8375193889859127\n",
      "MaxFeatures 0.8383673469387755  TrainScore:  0.9759451072843439  TstScore:  0.798385668256759\n",
      "MaxFeatures 0.8585714285714285  TrainScore:  0.9744991269587904  TstScore:  0.8427553343611456\n",
      "MaxFeatures 0.8787755102040816  TrainScore:  0.9747164588549131  TstScore:  0.8330779921637315\n",
      "MaxFeatures 0.8989795918367347  TrainScore:  0.9718142390643622  TstScore:  0.819811240809668\n",
      "MaxFeatures 0.9191836734693878  TrainScore:  0.9694262928157643  TstScore:  0.8188912077537727\n",
      "MaxFeatures 0.9393877551020408  TrainScore:  0.9685630341751394  TstScore:  0.8116702884364702\n",
      "MaxFeatures 0.9595918367346938  TrainScore:  0.9728046272626195  TstScore:  0.8428201661752057\n",
      "MaxFeatures 0.9797959183673469  TrainScore:  0.9698598453876434  TstScore:  0.7756280703726224\n",
      "MaxFeatures 1.0  TrainScore:  0.9705785387416517  TstScore:  0.7976666885657052\n"
     ]
    },
    {
     "data": {
      "image/png": "[encoded data removed]",
      "text/plain": [
       "<Figure size 432x288 with 1 Axes>"
      ]
     },
     "metadata": {
      "needs_background": "light"
     },
     "output_type": "display_data"
    }
   ],
   "source": [
    "def test_RandomForestRegressor_max_features(*data):\n",
    "    '''\n",
    "   測試 RandomForestRegressor 的預測效能隨  max_features 引數的影響\n",
    "\n",
    "    :param data:  可變引數。它是一個元組，這裡要求其元素依次為：訓練樣本集、測試樣本集、訓練樣本的值、測試樣本的值\n",
    "    :return: None\n",
    "    '''\n",
    "    X_train,X_test,y_train,y_test=data\n",
    "    max_features=np.linspace(0.01,1.0)\n",
    "    fig=plt.figure()\n",
    "    ax=fig.add_subplot(1,1,1)\n",
    "    testing_scores=[]\n",
    "    training_scores=[]\n",
    "    for max_feature in max_features:\n",
    "        regr=RandomForestRegressor(n_estimators= 20, max_features=max_feature, max_depth=9)\n",
    "        regr.fit(X_train,y_train)\n",
    "        print(\"MaxFeatures\", max_feature, \" TrainScore: \", regr.score(X_train,y_train), \" TstScore: \", regr.score(X_test,y_test))\n",
    "        training_scores.append(regr.score(X_train,y_train))\n",
    "        testing_scores.append(regr.score(X_test,y_test))\n",
    "    ax.plot(max_features,training_scores,label=\"Training Score\")\n",
    "    ax.plot(max_features,testing_scores,label=\"Testing Score\")\n",
    "    ax.set_xlabel(\"max_feature\")\n",
    "    ax.set_ylabel(\"score\")\n",
    "    ax.legend(loc=\"lower right\")\n",
    "    ax.set_ylim(0,1.05)\n",
    "    plt.suptitle(\"RandomForestRegressor\")\n",
    "    # 設定 X 軸的網格線，風格為 點畫線\n",
    "    plt.grid(axis='x',linestyle='-.')\n",
    "    plt.show()\n",
    "    \n",
    "test_RandomForestRegressor_max_features(x_train,x_test,y_train,y_test)"
   ]
  },
  {
   "cell_type": "code",
   "execution_count": 102,
   "metadata": {},
   "outputs": [
    {
     "name": "stdout",
     "output_type": "stream",
     "text": [
      "Num 1  TrainScore:  0.8480909249737346  TstScore:  0.6786190772206935\n",
      "Num 6  TrainScore:  0.9647692094382936  TstScore:  0.8759162198462845\n",
      "Num 11  TrainScore:  0.9738166590411337  TstScore:  0.8124335081808357\n",
      "Num 16  TrainScore:  0.968071468720597  TstScore:  0.8077397660266515\n",
      "Num 21  TrainScore:  0.9687088609965973  TstScore:  0.8490693034241213\n",
      "Num 26  TrainScore:  0.9753825724548542  TstScore:  0.8766665615778144\n",
      "Num 31  TrainScore:  0.9779085309785331  TstScore:  0.8438743848564276\n",
      "Num 36  TrainScore:  0.9733551271676044  TstScore:  0.8315228899320678\n",
      "Num 41  TrainScore:  0.9733832346417262  TstScore:  0.8533985227998486\n",
      "Num 46  TrainScore:  0.9732286064357483  TstScore:  0.8462392826618106\n",
      "Num 51  TrainScore:  0.976443877703303  TstScore:  0.8752508857305198\n",
      "Num 56  TrainScore:  0.9735628710331613  TstScore:  0.831611552561492\n",
      "Num 61  TrainScore:  0.9760082283971051  TstScore:  0.8459254012791344\n",
      "Num 66  TrainScore:  0.9774095756268912  TstScore:  0.849847738150233\n",
      "Num 71  TrainScore:  0.9746541628582253  TstScore:  0.8793545472270401\n",
      "Num 76  TrainScore:  0.9742980126490743  TstScore:  0.8420051134275424\n",
      "Num 81  TrainScore:  0.9751990231971689  TstScore:  0.8547787852692551\n",
      "Num 86  TrainScore:  0.9762310486434485  TstScore:  0.8661439123912602\n",
      "Num 91  TrainScore:  0.9753455162775818  TstScore:  0.8579479335291618\n",
      "Num 96  TrainScore:  0.9781023031554114  TstScore:  0.8616484087111409\n"
     ]
    },
    {
     "data": {
      "image/png": "[encoded data removed]",
      "text/plain": [
       "<Figure size 432x288 with 1 Axes>"
      ]
     },
     "metadata": {
      "needs_background": "light"
     },
     "output_type": "display_data"
    }
   ],
   "source": [
    "def test_RandomForestRegressor_num(*data):\n",
    "    '''\n",
    "    測試 RandomForestRegressor 的預測效能隨  n_estimators 引數的影響\n",
    "\n",
    "    :param data: 可變引數。它是一個元組，這裡要求其元素依次為：訓練樣本集、測試樣本集、訓練樣本的值、測試樣本的值\n",
    "    :return: None\n",
    "    '''\n",
    "    X_train,X_test,y_train,y_test=data\n",
    "    nums=np.arange(1,100,step=5)\n",
    "    fig=plt.figure()\n",
    "    ax=fig.add_subplot(1,1,1)\n",
    "    testing_scores=[]\n",
    "    training_scores=[]\n",
    "    for num in nums:\n",
    "        regr=RandomForestRegressor(n_estimators=num, max_features=0.5, max_depth=9)\n",
    "        regr.fit(X_train,y_train)\n",
    "        print(\"Num\", num, \" TrainScore: \", regr.score(X_train,y_train), \" TstScore: \", regr.score(X_test,y_test))\n",
    "        training_scores.append(regr.score(X_train,y_train))\n",
    "        testing_scores.append(regr.score(X_test,y_test))\n",
    "    ax.plot(nums,training_scores,label=\"Training Score\")\n",
    "    ax.plot(nums,testing_scores,label=\"Testing Score\")\n",
    "    ax.set_xlabel(\"estimator num\")\n",
    "    ax.set_ylabel(\"score\")\n",
    "    ax.legend(loc=\"lower right\")\n",
    "    ax.set_ylim(-1,1)\n",
    "    plt.suptitle(\"RandomForestRegressor\")\n",
    "    # 設定 X 軸的網格線，風格為 點畫線\n",
    "    plt.grid(axis='x',linestyle='-.')\n",
    "    plt.show()\n",
    "\n",
    "test_RandomForestRegressor_num(x_train,x_test,y_train,y_test)"
   ]
  }
 ],
 "metadata": {
  "kernelspec": {
   "display_name": "Python 3",
   "language": "python",
   "name": "python3"
  },
  "language_info": {
   "codemirror_mode": {
    "name": "ipython",
    "version": 3
   },
   "file_extension": ".py",
   "mimetype": "text/x-python",
   "name": "python",
   "nbconvert_exporter": "python",
   "pygments_lexer": "ipython3",
   "version": "3.7.3"
  }
 },
 "nbformat": 4,
 "nbformat_minor": 2
}
